{
 "cells": [
  {
   "cell_type": "code",
   "execution_count": 121,
   "metadata": {},
   "outputs": [],
   "source": [
    "import numpy as np\n",
    "import matplotlib.pyplot as plt\n",
    "\n",
    "class Box():\n",
    "    \"\"\"Box defines a square in the occupancy grid that has an obstacle\"\"\"\n",
    "    def __init__(self, x, y):\n",
    "        self.x, self.y = x,y\n",
    "\n",
    "class Obstacle():\n",
    "    \"\"\"Obstacle contains all of the occupied boxes in the grid for one obstacle\"\"\"\n",
    "    def __init__(self, start_box, num_boxes, x_bound, y_bound):\n",
    "        self.boxes = [start_box]\n",
    "        self.num_boxes = num_boxes\n",
    "        self.generate(x_bound, y_bound)\n",
    "\n",
    "    def generate(self, x_bound, y_bound):\n",
    "        for _ in range(self.num_boxes-1):\n",
    "            self.add(x_bound, y_bound)\n",
    "\n",
    "    def checkPlacements(self, box, x_bound, y_bound):\n",
    "        # Check right\n",
    "        free_right = True\n",
    "        if box.x + 1 >= x_bound or any([other_box.y == box.y and other_box.x == box.x+1 for other_box in self.boxes]):\n",
    "            free_right = False\n",
    "        # Check left\n",
    "        free_left = True\n",
    "        if box.x - 1 < 0 or any([other_box.y == box.y and other_box.x == box.x-1 for other_box in self.boxes]):\n",
    "            free_left = False\n",
    "        # Check up\n",
    "        free_up = True\n",
    "        if box.y + 1 >= y_bound or any([other_box.x == box.x and other_box.y == box.y+1 for other_box in self.boxes]):\n",
    "            free_up = False\n",
    "        # Check down\n",
    "        free_down = True\n",
    "        if box.y -1 < 0 or any([other_box.x == box.x and other_box.y == box.y-1 for other_box in self.boxes]):\n",
    "            free_down = False\n",
    "        free_places = [free_right, free_left, free_up, free_down]\n",
    "        return free_places\n",
    "\n",
    "    def getBoxPlacements(self,x_bound, y_bound):\n",
    "        # Filter out boxes that are surrounded on all sides by other boxes or the map boundary\n",
    "        filtered_boxes = []\n",
    "        free_placements = []\n",
    "        for box in self.boxes:\n",
    "            free_places = self.checkPlacements(box, x_bound, y_bound)\n",
    "            if any(free_places):\n",
    "                filtered_boxes.append(box)\n",
    "                free_placements.append(free_places)\n",
    "        return filtered_boxes, free_placements\n",
    "\n",
    "    def add(self, x_bound, y_bound):\n",
    "        \"\"\"Add a box building from existing boxes\"\"\"\n",
    "        filtered_boxes, free_placements = self.getBoxPlacements(x_bound, y_bound)\n",
    "        # If you have no valid placements. Give up\n",
    "        if len(filtered_boxes) == 0:\n",
    "            return None\n",
    "        # Now pick where to add a box\n",
    "        box_datas = [(box, place) for box, place in zip(filtered_boxes, free_placements)]\n",
    "        box_data_id = np.random.choice(list(range(len(box_datas))))\n",
    "        root_box, places = box_datas[box_data_id][0], box_datas[box_data_id][1]\n",
    "        choices = ['right', 'left', 'up', 'down']\n",
    "        valid_choices = []\n",
    "        for choice, place in zip(choices, places):\n",
    "            if place:\n",
    "                valid_choices.append(choice)\n",
    "        # We chose where to put it\n",
    "        chosen = np.random.choice(valid_choices)\n",
    "        delta = np.array([0,0])\n",
    "        if chosen == 'right':\n",
    "            delta[0]+=1\n",
    "        elif chosen == 'left':\n",
    "            delta[0]-=1\n",
    "        elif chosen == 'up':\n",
    "            delta[1]+=1\n",
    "        elif chosen == 'down':\n",
    "            delta[1]-=1\n",
    "        # Create the box\n",
    "        box = Box(x=root_box.x+delta[0], y=root_box.y+delta[1])\n",
    "        # Add the box, finally\n",
    "        self.boxes.append(box)"
   ]
  },
  {
   "cell_type": "code",
   "execution_count": 122,
   "metadata": {},
   "outputs": [
    {
     "name": "stdout",
     "output_type": "stream",
     "text": [
      "[(5, 5), (5, 6), (5, 7), (5, 8), (6, 6), (7, 6), (8, 6)]\n",
      "5 5 [True, True, False, True]\n",
      "5 6 [False, True, False, False]\n",
      "5 7 [True, True, False, False]\n",
      "5 8 [True, True, True, False]\n",
      "6 6 [False, False, True, True]\n",
      "7 6 [False, False, True, True]\n",
      "8 6 [True, False, True, True]\n"
     ]
    },
    {
     "data": {
      "text/plain": [
       "<matplotlib.image.AxesImage at 0x780bf6101150>"
      ]
     },
     "execution_count": 122,
     "metadata": {},
     "output_type": "execute_result"
    },
    {
     "data": {
      "image/png": "[encoded data removed]",
      "text/plain": [
       "<Figure size 640x480 with 1 Axes>"
      ]
     },
     "metadata": {},
     "output_type": "display_data"
    }
   ],
   "source": [
    "\"\"\"Tests\"\"\"\n",
    "# box = Box(x=9,y=9)\n",
    "# obstacle = Obstacle(box, 0, x_bound=10, y_bound=10)\n",
    "# obstacle.checkPlacements(box, 10, 10)\n",
    "\n",
    "boxes = [\n",
    "    Box(5,5),\n",
    "    Box(5,6),\n",
    "    Box(5,7),\n",
    "    Box(5,8),\n",
    "    Box(6,6),\n",
    "    Box(7,6),\n",
    "    Box(8,6)\n",
    "]\n",
    "\n",
    "obstacle = Obstacle(box,0,20,20)\n",
    "print([(box.x, box.y) for box in boxes])\n",
    "obstacle.boxes = boxes\n",
    "\n",
    "occupancy_grid = np.zeros((20,20))\n",
    "for box in obstacle.boxes:\n",
    "    occupancy_grid[box.x, box.y] = 1\n",
    "\n",
    "filtered_boxes, free_placements = obstacle.getBoxPlacements(10,10)\n",
    "for box, free_place in zip(filtered_boxes, free_placements):\n",
    "    print(box.x, box.y, free_place)\n",
    "\n",
    "plt.imshow(occupancy_grid)"
   ]
  },
  {
   "cell_type": "code",
   "execution_count": 126,
   "metadata": {},
   "outputs": [
    {
     "data": {
      "text/plain": [
       "<matplotlib.image.AxesImage at 0x780bf608cc70>"
      ]
     },
     "execution_count": 126,
     "metadata": {},
     "output_type": "execute_result"
    },
    {
     "data": {
      "image/png": "[encoded data removed]",
      "text/plain": [
       "<Figure size 640x480 with 1 Axes>"
      ]
     },
     "metadata": {},
     "output_type": "display_data"
    }
   ],
   "source": [
    "# Generate obstacles in an occupancy grid\n",
    "x_bound = 100\n",
    "y_bound = 100\n",
    "occupancy_grid = np.zeros((100,100))\n",
    "\n",
    "# Pick where to place obstacles\n",
    "num_obstacles = 20\n",
    "num_boxes = 100\n",
    "xs = np.random.uniform(0, x_bound, num_obstacles).astype(int)\n",
    "ys = np.random.uniform(0, y_bound, num_obstacles).astype(int)\n",
    "\n",
    "# Generate obstacles\n",
    "obstacles = [Obstacle(Box(x,y), num_boxes, x_bound, y_bound) for x,y in zip(xs, ys)]\n",
    "\n",
    "# Fill the occupancy grid\n",
    "for obstacle in obstacles:\n",
    "    for box in obstacle.boxes:\n",
    "        occupancy_grid[box.x, box.y] = 1\n",
    "\n",
    "plt.imshow(occupancy_grid)"
   ]
  },
  {
   "cell_type": "code",
   "execution_count": 133,
   "metadata": {},
   "outputs": [
    {
     "data": {
      "text/plain": [
       "<matplotlib.image.AxesImage at 0x780bf55d4bb0>"
      ]
     },
     "execution_count": 133,
     "metadata": {},
     "output_type": "execute_result"
    },
    {
     "data": {
      "image/png": "[encoded data removed]",
      "text/plain": [
       "<Figure size 640x480 with 1 Axes>"
      ]
     },
     "metadata": {},
     "output_type": "display_data"
    }
   ],
   "source": [
    "# I like the map I generated. I want to flip the y-axis so I can see it how it's meant to be seen\n",
    "vis_grid = np.flip(occupancy_grid,axis=0)\n",
    "plt.yticks(ticks=[0,20,40,60,80,99], labels=[99,80,60,40,20,0])\n",
    "plt.xticks(ticks=[0,20,40,60,80,99], labels=[0,20,40,60,80,99])\n",
    "plt.imshow(vis_grid)"
   ]
  },
  {
   "cell_type": "code",
   "execution_count": 141,
   "metadata": {},
   "outputs": [],
   "source": [
    "# There are some squares that are blocked entirely by obstacles. I'm going to clean this to fill those holes to make coding easier later\n",
    "def plotGrid(occupancy_grid):\n",
    "    vis_grid = np.flip(occupancy_grid,axis=0)\n",
    "    plt.yticks(ticks=list(range(0,100,5)), labels=reversed(list(range(0,100,5))))\n",
    "    plt.xticks(ticks=list(range(0,100,5)), labels=list(range(0,100,5)))\n",
    "    plt.grid()\n",
    "    plt.imshow(vis_grid)"
   ]
  },
  {
   "cell_type": "code",
   "execution_count": 139,
   "metadata": {},
   "outputs": [],
   "source": [
    "def generateOccupancyGrid(x_bound, y_bound, num_obstacles, num_boxes):\n",
    "    # Generate obstacles in an occupancy grid\n",
    "    occupancy_grid = np.zeros((x_bound,y_bound))\n",
    "\n",
    "    # Pick where to place obstacles\n",
    "    xs = np.random.uniform(0, x_bound, num_obstacles).astype(int)\n",
    "    ys = np.random.uniform(0, y_bound, num_obstacles).astype(int)\n",
    "\n",
    "    # Generate obstacles\n",
    "    obstacles = [Obstacle(Box(x,y), num_boxes, x_bound, y_bound) for x,y in zip(xs, ys)]\n",
    "\n",
    "    # Fill the occupancy grid\n",
    "    for obstacle in obstacles:\n",
    "        for box in obstacle.boxes:\n",
    "            occupancy_grid[box.x, box.y] = 1\n",
    "\n",
    "    return occupancy_grid"
   ]
  },
  {
   "cell_type": "code",
   "execution_count": 162,
   "metadata": {},
   "outputs": [
    {
     "data": {
      "image/png": "[encoded data removed]",
      "text/plain": [
       "<Figure size 640x480 with 1 Axes>"
      ]
     },
     "metadata": {},
     "output_type": "display_data"
    }
   ],
   "source": [
    "x_bound=10\n",
    "y_bound=10\n",
    "mini_grid = generateOccupancyGrid(x_bound=x_bound, y_bound=y_bound, num_obstacles=1, num_boxes=5)\n",
    "plotGrid(mini_grid)"
   ]
  },
  {
   "cell_type": "code",
   "execution_count": 178,
   "metadata": {},
   "outputs": [],
   "source": [
    "# I can do that computationally. Pick a start square. Any square that is not connected to this square (behind an obstacle) gets marked as an obstacle\n",
    "root_node = np.array([5,5])\n",
    "\n",
    "# Each node has 4 connections. Each connection is either valid or invalid. Once you know if the validity of each connection, you are done with that node\n",
    "nodes_to_check = [root_node]\n",
    "# connection of each checked node. is it connected to the root or not?\n",
    "checked_nodes = np.zeros(mini_grid.shape)\n",
    "connectivity_grid = np.zeros(mini_grid.shape)\n",
    "\n",
    "def out_of_bounds(node, x_bound, y_bound):\n",
    "    if node[0] >= x_bound or node[0] < 0:\n",
    "        return True\n",
    "    elif node[1] >= y_bound or node[1] < 0:\n",
    "        return True\n",
    "    return False\n",
    "\n",
    "# keep running until we are done checking nodes\n",
    "while len(nodes_to_check) > 0:\n",
    "    # It's a queue. Get the one that has been there the longest\n",
    "    node = nodes_to_check[0]\n",
    "    # Check if this node is occupied or not (or out of bounds, which counts as occupied here)\n",
    "    if out_of_bounds(node, x_bound, y_bound):\n",
    "        connected = 0\n",
    "    else:\n",
    "        connected = mini_grid[node[0], node[1]]\n",
    "    # Get its neighbors\n",
    "    neighbors = [\n",
    "        node+[1,0],\n",
    "        node+[-1,0],\n",
    "        node+[0,1],\n",
    "        node+[0,-1]\n",
    "    ]\n",
    "    # See if we have checked each neighbor. Add them to check if not\n",
    "    for neighbor in neighbors:\n",
    "        if out_of_bounds(neighbor, x_bound, y_bound):\n",
    "            checked = True\n",
    "        elif checked_nodes[neighbor[0], neighbor[1]] == 0:\n",
    "            checked = False\n",
    "        else:\n",
    "            checked = True\n",
    "        if not checked:\n",
    "            nodes_to_check.append(neighbor)\n",
    "\n",
    "    del nodes_to_check[0]\n",
    "    checked_nodes[node[0], node[1]] = 1\n",
    "    connectivity_grid[node[0], node[1]] = connected"
   ]
  },
  {
   "cell_type": "code",
   "execution_count": 179,
   "metadata": {},
   "outputs": [
    {
     "data": {
      "image/png": "[encoded data removed]",
      "text/plain": [
       "<Figure size 640x480 with 1 Axes>"
      ]
     },
     "metadata": {},
     "output_type": "display_data"
    }
   ],
   "source": [
    "# I want to visualize - which ones are connected?\n",
    "plotGrid(connectivity_grid)"
   ]
  },
  {
   "cell_type": "code",
   "execution_count": null,
   "metadata": {},
   "outputs": [],
   "source": []
  }
 ],
 "metadata": {
  "kernelspec": {
   "display_name": "basic",
   "language": "python",
   "name": "python3"
  },
  "language_info": {
   "codemirror_mode": {
    "name": "ipython",
    "version": 3
   },
   "file_extension": ".py",
   "mimetype": "text/x-python",
   "name": "python",
   "nbconvert_exporter": "python",
   "pygments_lexer": "ipython3",
   "version": "3.10.12"
  }
 },
 "nbformat": 4,
 "nbformat_minor": 2
}
