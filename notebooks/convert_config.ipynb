{
 "cells": [
  {
   "cell_type": "code",
   "execution_count": 5,
   "metadata": {},
   "outputs": [],
   "source": [
    "import yaml\n",
    "import os\n",
    "import pprint\n",
    "import pandas as pd\n",
    "from pathlib import Path\n",
    "from influence_moo.env.mission import Mission"
   ]
  },
  {
   "cell_type": "code",
   "execution_count": 6,
   "metadata": {},
   "outputs": [],
   "source": [
    "def convert_config(old_config):\n",
    "    # Open the YAML file\n",
    "    with open(os.path.expanduser(old_config), 'r') as file:\n",
    "        data = yaml.safe_load(file)  # Use safe_load for reading\n",
    "\n",
    "    # Remove num_asvs\n",
    "    del data['env']['num_asvs']\n",
    "\n",
    "    # auv -> auv_params. Populate from mission directory\n",
    "    data['env']['auv_params'] = data['env'].pop('auv')\n",
    "\n",
    "    # Get mission info\n",
    "    m = Mission(Path(os.path.expanduser(data['env']['mission_dir'])))\n",
    "\n",
    "    # Add auvs (with paths)\n",
    "    data['env']['auvs'] = [\n",
    "        [[float(p) for p in position] for position in path] for path in m.paths\n",
    "    ]\n",
    "\n",
    "    # Add asv start positions\n",
    "    data['env']['asvs'] = [\n",
    "    {'position': [float(p) for p in position]} for position in m.asv_start_positions\n",
    "    ]\n",
    "\n",
    "    # Add position information for pois\n",
    "    data['env']['pois'] = [\n",
    "        {'position': [float(p) for p in position], 'value': poi_data['value'], 'observation_radius': poi_data['observation_radius']} for poi_data, position in zip(data['env']['pois'], m.pois)\n",
    "    ]\n",
    "\n",
    "    # Add connectivity grid\n",
    "    data['env']['connectivity_grid'] = m.connectivity_grid.astype(int).tolist()\n",
    "\n",
    "    # Remove critic state_size\n",
    "    del data['critic']\n",
    "\n",
    "    # Remove mission_dir\n",
    "    del data['env']['mission_dir']\n",
    "\n",
    "    return data"
   ]
  },
  {
   "cell_type": "code",
   "execution_count": 7,
   "metadata": {},
   "outputs": [],
   "source": [
    "variants = ['alignment', 'D', 'D-Indirect-Step', 'D-Indirect-Traj', 'fitness_critic', 'G']\n",
    "\n",
    "old_dir = '~/influence-multi-objective/results/captain_d/first_try'\n",
    "new_dir = '~/influence-multi-objective/results/captain_d/redo2/'\n",
    "\n",
    "for v in variants:\n",
    "    old_config = old_dir+'/'+v+'/config.yaml'\n",
    "    data = convert_config(old_config)\n",
    "\n",
    "    data['processing']['use_multiprocessing'] = True\n",
    "\n",
    "    with open(os.path.expanduser(new_dir)+'/'+v+'/config.yaml', 'w') as file:\n",
    "        yaml.dump(data, file)\n"
   ]
  },
  {
   "cell_type": "code",
   "execution_count": null,
   "metadata": {},
   "outputs": [],
   "source": []
  }
 ],
 "metadata": {
  "kernelspec": {
   "display_name": "basic",
   "language": "python",
   "name": "python3"
  },
  "language_info": {
   "codemirror_mode": {
    "name": "ipython",
    "version": 3
   },
   "file_extension": ".py",
   "mimetype": "text/x-python",
   "name": "python",
   "nbconvert_exporter": "python",
   "pygments_lexer": "ipython3",
   "version": "3.10.12"
  }
 },
 "nbformat": 4,
 "nbformat_minor": 2
}
