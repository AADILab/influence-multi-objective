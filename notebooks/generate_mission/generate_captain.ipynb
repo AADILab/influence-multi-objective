{
 "cells": [
  {
   "cell_type": "code",
   "execution_count": 51,
   "metadata": {},
   "outputs": [],
   "source": [
    "%matplotlib qt\n",
    "import numpy as np\n",
    "from influence_moo.plotting import plot_grid, plot_mission, plot_pts, plot_vectors\n",
    "from influence_moo.env.mission import Mission\n",
    "from influence_moo.waves import sample_waves\n",
    "import pandas as pd\n",
    "from pathlib import Path\n",
    "import matplotlib.pyplot as plt"
   ]
  },
  {
   "cell_type": "code",
   "execution_count": 52,
   "metadata": {},
   "outputs": [],
   "source": [
    "grid = np.ones((10,10),dtype=int)\n",
    "\n",
    "grid[1,2] = 0\n",
    "grid[4,1:5] = 0\n",
    "\n",
    "grid[6,2] = 0\n",
    "grid[9,1:5] = 0\n",
    "\n",
    "plt.figure()\n",
    "plot_grid(grid)"
   ]
  },
  {
   "cell_type": "code",
   "execution_count": 53,
   "metadata": {},
   "outputs": [],
   "source": [
    "if False:\n",
    "    np.savetxt(\"connectivity_grid.csv\", grid, delimiter=\",\", fmt=\"%d\")"
   ]
  },
  {
   "cell_type": "code",
   "execution_count": 54,
   "metadata": {},
   "outputs": [],
   "source": [
    "if False:\n",
    "    connect_df = pd.DataFrame(grid)\n",
    "    connect_df.to_csv('connectivity.csv')"
   ]
  },
  {
   "cell_type": "code",
   "execution_count": 55,
   "metadata": {},
   "outputs": [],
   "source": [
    "mission = Mission(Path(\"/home/gonzaeve/influence-multi-objective/results/captain_b/mission\"))\n",
    "plt.figure()\n",
    "plot_mission(mission, include_waves=False)"
   ]
  },
  {
   "cell_type": "code",
   "execution_count": 56,
   "metadata": {},
   "outputs": [],
   "source": [
    "# c\n",
    "grid = np.ones((10,10),dtype=int)\n",
    "\n",
    "grid[1,2] = 0\n",
    "grid[4,:] = 0\n",
    "\n",
    "grid[6,2] = 0\n",
    "grid[9,1:5] = 0\n",
    "\n",
    "plt.figure()\n",
    "plot_grid(grid)"
   ]
  },
  {
   "cell_type": "code",
   "execution_count": 57,
   "metadata": {},
   "outputs": [],
   "source": [
    "connect_df = pd.DataFrame(grid)\n",
    "connect_df.to_csv('connectivity.csv')"
   ]
  },
  {
   "cell_type": "code",
   "execution_count": 58,
   "metadata": {},
   "outputs": [],
   "source": [
    "\"\"\" Let's generate Captain d variants with different numbers of rows and columns\n",
    "captain_d_r2_c2 (2 rows, 2 columns)\n",
    "\"\"\"\n",
    "\n",
    "n_rows = 10\n",
    "n_cols = 4\n",
    "\n",
    "obs_width = 5\n",
    "gap_width = 3\n",
    "x_dim = gap_width+(n_cols-1)*(obs_width+gap_width)\n",
    "\n",
    "space = 5\n",
    "y_dim = (n_rows-1)*space+space\n",
    "\n",
    "grid = np.zeros((x_dim,y_dim), dtype=int)\n",
    "\n",
    "for r in range(n_rows):\n",
    "    grid[:, (r+1)*space:(r+1)*space+1] +=1\n",
    "\n",
    "for c in range(n_cols):\n",
    "    c_space = obs_width+gap_width\n",
    "    grid[c_space*c+gap_width:c_space*(c+1),:] += 1\n",
    "\n",
    "for r in range(grid.shape[0]):\n",
    "    for c in range(grid.shape[1]):\n",
    "        if grid[r,c] != 2:\n",
    "            grid[r,c] = 0\n",
    "        elif grid[r,c] == 2:\n",
    "            grid[r,c] = 1\n",
    "\n",
    "# Flip 1s and 0s\n",
    "grid = 1 - grid\n",
    "\n",
    "plt.figure()\n",
    "plot_grid(grid)\n"
   ]
  },
  {
   "cell_type": "code",
   "execution_count": 59,
   "metadata": {},
   "outputs": [],
   "source": [
    "\"\"\"Time to add in POIs\"\"\"\n",
    "\n",
    "xs = [c*c_space+gap_width/2 for c in range(n_cols)]\n",
    "ys = [(r+1)*space+1/2 for r in range(n_rows-1)]"
   ]
  },
  {
   "cell_type": "code",
   "execution_count": 60,
   "metadata": {},
   "outputs": [],
   "source": [
    "\"\"\"Set up POIs with positions and values\"\"\"\n",
    "poi_positions = []\n",
    "poi_values = []\n",
    "\n",
    "forward_order = True\n",
    "base_val = 1.5\n",
    "\n",
    "for xi, x in enumerate(xs):\n",
    "    for yi, y in enumerate(ys):\n",
    "\n",
    "        poi_positions.append(np.array([x,y]))\n",
    "\n",
    "        # Value of POI depends on whether we are doing ascending y order or descending y order\n",
    "        if forward_order:\n",
    "            poi_values.append(base_val**(yi+1))\n",
    "            # poi_values.append(yi+1)\n",
    "        else:\n",
    "            poi_values.append(base_val**(len(ys) - yi))\n",
    "            # poi_values.append(len(ys) - yi)\n",
    "\n",
    "    # Flip the order of ascending value for pois\n",
    "    forward_order = not forward_order\n",
    "\n",
    "\"\"\"Set up AUV paths\"\"\"\n",
    "auv_paths = [[] for x in xs]\n",
    "forward_order = True\n",
    "for xi in range(len(auv_paths)):\n",
    "    pois_in_path = poi_positions[xi*len(ys):(xi+1)*len(ys)]\n",
    "    if not forward_order:\n",
    "        pois_in_path = list(reversed(pois_in_path))\n",
    "\n",
    "    if forward_order:\n",
    "        start_pos = pois_in_path[0] - np.array([0, space*1/2])\n",
    "    else:\n",
    "        start_pos = pois_in_path[0] + np.array([0, space*1/2])\n",
    "    auv_paths[xi].append(start_pos)\n",
    "\n",
    "    for poi in pois_in_path:\n",
    "        auv_paths[xi].append(poi)\n",
    "    forward_order = not forward_order\n",
    "\n",
    "\"\"\"Set up ASV start positions\"\"\"\n",
    "asv_start_positions = []\n",
    "asv_start_positions.append([grid.shape[0]/2, space/2])\n",
    "for y in ys:\n",
    "    asv_start_positions.append([grid.shape[0]/2,y+space/2])\n",
    "\n",
    "\"\"\"Set up waves\"\"\"\n",
    "def wave_x(x):\n",
    "    a = 1.\n",
    "    b = 10.\n",
    "    c = 5.\n",
    "    return a * np.sin(x/b + c)\n",
    "\n",
    "def wave_y(y):\n",
    "    a = 1.5\n",
    "    b = .1\n",
    "    c = 5.\n",
    "    return a * np.sin(y/b + c)"
   ]
  },
  {
   "cell_type": "code",
   "execution_count": 61,
   "metadata": {},
   "outputs": [],
   "source": [
    "plt.figure()\n",
    "plot_grid(grid, cmap='tab10_r')\n",
    "plot_pts(np.array(poi_positions), marker='o', fillstyle='full', linestyle='none',color='tab:green', markersize=10.0)\n",
    "\n",
    "# Label each point\n",
    "for i in range(len(poi_positions)):\n",
    "    a = f\"{float(poi_values[i]):.2f}\"\n",
    "    plt.annotate(a, (poi_positions[i][0], poi_positions[i][1]), textcoords=\"offset points\", xytext=(0, 10), ha='center')\n",
    "\n",
    "for p in auv_paths:\n",
    "    plot_pts(np.array(p), color='purple')\n",
    "\n",
    "for p in asv_start_positions:\n",
    "    plot_pts(np.array([p]), marker='^', fillstyle='full', linestyle='none',color='orange')\n",
    "\n",
    "wave_vectors = sample_waves(grid, 20, 20, wave_x, wave_y)\n",
    "# print(grid.shape)\n",
    "plot_vectors(wave_vectors, color='pink', lw=0.3)\n",
    "plt.xlim([0, grid.shape[0]])\n",
    "plt.ylim([0, grid.shape[1]])\n",
    "plt.show()"
   ]
  },
  {
   "cell_type": "code",
   "execution_count": 50,
   "metadata": {},
   "outputs": [],
   "source": [
    "connect_df = pd.DataFrame(grid)\n",
    "connect_df.to_csv('connectivity.csv')"
   ]
  },
  {
   "cell_type": "code",
   "execution_count": 62,
   "metadata": {},
   "outputs": [],
   "source": [
    "asv_start_pos_df = pd.DataFrame(asv_start_positions)\n",
    "asv_start_pos_df.to_csv('asv_start_positions.csv')"
   ]
  },
  {
   "cell_type": "code",
   "execution_count": 63,
   "metadata": {},
   "outputs": [],
   "source": [
    "for i, auv_path in enumerate(auv_paths):\n",
    "    auv_path_df = pd.DataFrame(auv_path)\n",
    "    auv_path_df.to_csv('path_'+str(i)+'.csv')"
   ]
  },
  {
   "cell_type": "code",
   "execution_count": 64,
   "metadata": {},
   "outputs": [],
   "source": [
    "poi_pos_df = pd.DataFrame(poi_positions)\n",
    "poi_pos_df.to_csv('pois.csv')"
   ]
  },
  {
   "cell_type": "code",
   "execution_count": 68,
   "metadata": {},
   "outputs": [
    {
     "name": "stdout",
     "output_type": "stream",
     "text": [
      "    - {value: 1.5, observation_radius: 3.0}\n",
      "    - {value: 2.25, observation_radius: 3.0}\n",
      "    - {value: 3.375, observation_radius: 3.0}\n",
      "    - {value: 5.0625, observation_radius: 3.0}\n",
      "    - {value: 7.59375, observation_radius: 3.0}\n",
      "    - {value: 11.390625, observation_radius: 3.0}\n",
      "    - {value: 17.0859375, observation_radius: 3.0}\n",
      "    - {value: 25.62890625, observation_radius: 3.0}\n",
      "    - {value: 38.443359375, observation_radius: 3.0}\n",
      "    - {value: 38.443359375, observation_radius: 3.0}\n",
      "    - {value: 25.62890625, observation_radius: 3.0}\n",
      "    - {value: 17.0859375, observation_radius: 3.0}\n",
      "    - {value: 11.390625, observation_radius: 3.0}\n",
      "    - {value: 7.59375, observation_radius: 3.0}\n",
      "    - {value: 5.0625, observation_radius: 3.0}\n",
      "    - {value: 3.375, observation_radius: 3.0}\n",
      "    - {value: 2.25, observation_radius: 3.0}\n",
      "    - {value: 1.5, observation_radius: 3.0}\n",
      "    - {value: 1.5, observation_radius: 3.0}\n",
      "    - {value: 2.25, observation_radius: 3.0}\n",
      "    - {value: 3.375, observation_radius: 3.0}\n",
      "    - {value: 5.0625, observation_radius: 3.0}\n",
      "    - {value: 7.59375, observation_radius: 3.0}\n",
      "    - {value: 11.390625, observation_radius: 3.0}\n",
      "    - {value: 17.0859375, observation_radius: 3.0}\n",
      "    - {value: 25.62890625, observation_radius: 3.0}\n",
      "    - {value: 38.443359375, observation_radius: 3.0}\n",
      "    - {value: 38.443359375, observation_radius: 3.0}\n",
      "    - {value: 25.62890625, observation_radius: 3.0}\n",
      "    - {value: 17.0859375, observation_radius: 3.0}\n",
      "    - {value: 11.390625, observation_radius: 3.0}\n",
      "    - {value: 7.59375, observation_radius: 3.0}\n",
      "    - {value: 5.0625, observation_radius: 3.0}\n",
      "    - {value: 3.375, observation_radius: 3.0}\n",
      "    - {value: 2.25, observation_radius: 3.0}\n",
      "    - {value: 1.5, observation_radius: 3.0}\n"
     ]
    }
   ],
   "source": [
    "for p in poi_values:\n",
    "    print(f\"    - {{value: {p}, observation_radius: 3.0}}\")"
   ]
  },
  {
   "cell_type": "code",
   "execution_count": null,
   "metadata": {},
   "outputs": [],
   "source": []
  }
 ],
 "metadata": {
  "kernelspec": {
   "display_name": "Python 3 (ipykernel)",
   "language": "python",
   "name": "python3"
  },
  "language_info": {
   "codemirror_mode": {
    "name": "ipython",
    "version": 3
   },
   "file_extension": ".py",
   "mimetype": "text/x-python",
   "name": "python",
   "nbconvert_exporter": "python",
   "pygments_lexer": "ipython3",
   "version": "3.10.12"
  }
 },
 "nbformat": 4,
 "nbformat_minor": 4
}
