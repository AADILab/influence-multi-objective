{
 "cells": [
  {
   "cell_type": "code",
   "execution_count": 1,
   "metadata": {},
   "outputs": [
    {
     "ename": "FileNotFoundError",
     "evalue": "[Errno 2] No such file or directory: '/home/gonzaeve/influence-multi-objective/sbatch/atrium/aug_22_2024/G/trial_0.sh'",
     "output_type": "error",
     "traceback": [
      "\u001b[0;31m---------------------------------------------------------------------------\u001b[0m",
      "\u001b[0;31mFileNotFoundError\u001b[0m                         Traceback (most recent call last)",
      "Cell \u001b[0;32mIn[1], line 35\u001b[0m\n\u001b[1;32m     32\u001b[0m \u001b[38;5;66;03m# Open a file in write mode ('w'). If the file does not exist, it will be created.\u001b[39;00m\n\u001b[1;32m     33\u001b[0m \u001b[38;5;66;03m# If it exists, it will be overwritten.\u001b[39;00m\n\u001b[1;32m     34\u001b[0m \u001b[38;5;28;01mfor\u001b[39;00m trial_num, file_str \u001b[38;5;129;01min\u001b[39;00m \u001b[38;5;28menumerate\u001b[39m(new_file_str_list):\n\u001b[0;32m---> 35\u001b[0m     \u001b[38;5;28;01mwith\u001b[39;00m \u001b[38;5;28;43mopen\u001b[39;49m\u001b[43m(\u001b[49m\u001b[38;5;124;43m'\u001b[39;49m\u001b[38;5;124;43m/home/gonzaeve/influence-multi-objective/sbatch/atrium/aug_22_2024/\u001b[39;49m\u001b[38;5;124;43m'\u001b[39;49m\u001b[38;5;241;43m+\u001b[39;49m\u001b[43ma\u001b[49m\u001b[38;5;241;43m+\u001b[39;49m\u001b[38;5;124;43m'\u001b[39;49m\u001b[38;5;124;43m/trial_\u001b[39;49m\u001b[38;5;124;43m'\u001b[39;49m\u001b[38;5;241;43m+\u001b[39;49m\u001b[38;5;28;43mstr\u001b[39;49m\u001b[43m(\u001b[49m\u001b[43mtrial_num\u001b[49m\u001b[43m)\u001b[49m\u001b[38;5;241;43m+\u001b[39;49m\u001b[38;5;124;43m'\u001b[39;49m\u001b[38;5;124;43m.sh\u001b[39;49m\u001b[38;5;124;43m'\u001b[39;49m\u001b[43m,\u001b[49m\u001b[43m \u001b[49m\u001b[38;5;124;43m'\u001b[39;49m\u001b[38;5;124;43mw\u001b[39;49m\u001b[38;5;124;43m'\u001b[39;49m\u001b[43m)\u001b[49m \u001b[38;5;28;01mas\u001b[39;00m file:\n\u001b[1;32m     36\u001b[0m         \u001b[38;5;66;03m# Write the string to the file\u001b[39;00m\n\u001b[1;32m     37\u001b[0m         file\u001b[38;5;241m.\u001b[39mwrite(file_str)\n\u001b[1;32m     39\u001b[0m \u001b[38;5;66;03m# The file is automatically closed after the with block.\u001b[39;00m\n",
      "File \u001b[0;32m~/venv/basic/lib/python3.10/site-packages/IPython/core/interactiveshell.py:310\u001b[0m, in \u001b[0;36m_modified_open\u001b[0;34m(file, *args, **kwargs)\u001b[0m\n\u001b[1;32m    303\u001b[0m \u001b[38;5;28;01mif\u001b[39;00m file \u001b[38;5;129;01min\u001b[39;00m {\u001b[38;5;241m0\u001b[39m, \u001b[38;5;241m1\u001b[39m, \u001b[38;5;241m2\u001b[39m}:\n\u001b[1;32m    304\u001b[0m     \u001b[38;5;28;01mraise\u001b[39;00m \u001b[38;5;167;01mValueError\u001b[39;00m(\n\u001b[1;32m    305\u001b[0m         \u001b[38;5;124mf\u001b[39m\u001b[38;5;124m\"\u001b[39m\u001b[38;5;124mIPython won\u001b[39m\u001b[38;5;124m'\u001b[39m\u001b[38;5;124mt let you open fd=\u001b[39m\u001b[38;5;132;01m{\u001b[39;00mfile\u001b[38;5;132;01m}\u001b[39;00m\u001b[38;5;124m by default \u001b[39m\u001b[38;5;124m\"\u001b[39m\n\u001b[1;32m    306\u001b[0m         \u001b[38;5;124m\"\u001b[39m\u001b[38;5;124mas it is likely to crash IPython. If you know what you are doing, \u001b[39m\u001b[38;5;124m\"\u001b[39m\n\u001b[1;32m    307\u001b[0m         \u001b[38;5;124m\"\u001b[39m\u001b[38;5;124myou can use builtins\u001b[39m\u001b[38;5;124m'\u001b[39m\u001b[38;5;124m open.\u001b[39m\u001b[38;5;124m\"\u001b[39m\n\u001b[1;32m    308\u001b[0m     )\n\u001b[0;32m--> 310\u001b[0m \u001b[38;5;28;01mreturn\u001b[39;00m \u001b[43mio_open\u001b[49m\u001b[43m(\u001b[49m\u001b[43mfile\u001b[49m\u001b[43m,\u001b[49m\u001b[43m \u001b[49m\u001b[38;5;241;43m*\u001b[39;49m\u001b[43margs\u001b[49m\u001b[43m,\u001b[49m\u001b[43m \u001b[49m\u001b[38;5;241;43m*\u001b[39;49m\u001b[38;5;241;43m*\u001b[39;49m\u001b[43mkwargs\u001b[49m\u001b[43m)\u001b[49m\n",
      "\u001b[0;31mFileNotFoundError\u001b[0m: [Errno 2] No such file or directory: '/home/gonzaeve/influence-multi-objective/sbatch/atrium/aug_22_2024/G/trial_0.sh'"
     ]
    }
   ],
   "source": [
    "from copy import deepcopy\n",
    "from pprint import pprint\n",
    "\n",
    "# Define the string you want to write\n",
    "file_string = \\\n",
    "\"\"\"#!/bin/bash\n",
    "#SBATCH --time=7-00:00:00\n",
    "#SBATCH --constraint=skylake\n",
    "#SBATCH --mem=8G\n",
    "#SBATCH -c 12\n",
    "\n",
    "module load python/3.10\n",
    "source ~/venv/influence/bin/activate\n",
    "\n",
    "\"\"\"\n",
    "\n",
    "for a in [\"G\", \"D\", \"D-Indirect-Team\", \"D-Indirect-AUV\"]:\n",
    "    python_str = \"python ~/influence-multi-objective/influence_moo/influence_moo/run_cli.py ~/influence-multi-objective/results/atrium/aug_22_2024/\"+a+\"/config.yaml -t \"\n",
    "\n",
    "    python_str_list = []\n",
    "    for i in range(20):\n",
    "        new_str = deepcopy(python_str)\n",
    "        new_str+=str(i)\n",
    "        python_str_list.append(new_str)\n",
    "\n",
    "    new_file_str_list = []\n",
    "    for python_str in python_str_list:\n",
    "        new_file_str = deepcopy(file_string)\n",
    "        new_file_str+='\\n'+python_str+'\\n'\n",
    "        new_file_str_list.append(new_file_str)\n",
    "\n",
    "    # Open a file in write mode ('w'). If the file does not exist, it will be created.\n",
    "    # If it exists, it will be overwritten.\n",
    "    for trial_num, file_str in enumerate(new_file_str_list):\n",
    "        with open('/home/gonzaeve/influence-multi-objective/sbatch/atrium/aug_22_2024/'+a+'/trial_'+str(trial_num)+'.sh', 'w') as file:\n",
    "            # Write the string to the file\n",
    "            file.write(file_str)\n",
    "\n",
    "    # The file is automatically closed after the with block."
   ]
  },
  {
   "cell_type": "code",
   "execution_count": 34,
   "metadata": {},
   "outputs": [
    {
     "name": "stdout",
     "output_type": "stream",
     "text": [
      "sbatch G/trial_0.sh\n",
      "sbatch D/trial_0.sh\n",
      "sbatch D-Indirect/trial_0.sh\n",
      "sbatch G/trial_1.sh\n",
      "sbatch D/trial_1.sh\n",
      "sbatch D-Indirect/trial_1.sh\n",
      "sbatch G/trial_2.sh\n",
      "sbatch D/trial_2.sh\n",
      "sbatch D-Indirect/trial_2.sh\n",
      "sbatch G/trial_3.sh\n",
      "sbatch D/trial_3.sh\n",
      "sbatch D-Indirect/trial_3.sh\n",
      "sbatch G/trial_4.sh\n",
      "sbatch D/trial_4.sh\n",
      "sbatch D-Indirect/trial_4.sh\n",
      "sbatch G/trial_5.sh\n",
      "sbatch D/trial_5.sh\n",
      "sbatch D-Indirect/trial_5.sh\n",
      "sbatch G/trial_6.sh\n",
      "sbatch D/trial_6.sh\n",
      "sbatch D-Indirect/trial_6.sh\n",
      "sbatch G/trial_7.sh\n",
      "sbatch D/trial_7.sh\n",
      "sbatch D-Indirect/trial_7.sh\n",
      "sbatch G/trial_8.sh\n",
      "sbatch D/trial_8.sh\n",
      "sbatch D-Indirect/trial_8.sh\n",
      "sbatch G/trial_9.sh\n",
      "sbatch D/trial_9.sh\n",
      "sbatch D-Indirect/trial_9.sh\n",
      "sbatch G/trial_10.sh\n",
      "sbatch D/trial_10.sh\n",
      "sbatch D-Indirect/trial_10.sh\n",
      "sbatch G/trial_11.sh\n",
      "sbatch D/trial_11.sh\n",
      "sbatch D-Indirect/trial_11.sh\n",
      "sbatch G/trial_12.sh\n",
      "sbatch D/trial_12.sh\n",
      "sbatch D-Indirect/trial_12.sh\n",
      "sbatch G/trial_13.sh\n",
      "sbatch D/trial_13.sh\n",
      "sbatch D-Indirect/trial_13.sh\n",
      "sbatch G/trial_14.sh\n",
      "sbatch D/trial_14.sh\n",
      "sbatch D-Indirect/trial_14.sh\n",
      "sbatch G/trial_15.sh\n",
      "sbatch D/trial_15.sh\n",
      "sbatch D-Indirect/trial_15.sh\n",
      "sbatch G/trial_16.sh\n",
      "sbatch D/trial_16.sh\n",
      "sbatch D-Indirect/trial_16.sh\n",
      "sbatch G/trial_17.sh\n",
      "sbatch D/trial_17.sh\n",
      "sbatch D-Indirect/trial_17.sh\n",
      "sbatch G/trial_18.sh\n",
      "sbatch D/trial_18.sh\n",
      "sbatch D-Indirect/trial_18.sh\n",
      "sbatch G/trial_19.sh\n",
      "sbatch D/trial_19.sh\n",
      "sbatch D-Indirect/trial_19.sh\n"
     ]
    }
   ],
   "source": [
    "for b in range(20):\n",
    "    for a in [\"G\", \"D\", \"D-Indirect\"]:\n",
    "        print('sbatch '+a+'/trial_'+str(b)+'.sh')"
   ]
  },
  {
   "cell_type": "code",
   "execution_count": null,
   "metadata": {},
   "outputs": [],
   "source": []
  }
 ],
 "metadata": {
  "kernelspec": {
   "display_name": "basic",
   "language": "python",
   "name": "python3"
  },
  "language_info": {
   "codemirror_mode": {
    "name": "ipython",
    "version": 3
   },
   "file_extension": ".py",
   "mimetype": "text/x-python",
   "name": "python",
   "nbconvert_exporter": "python",
   "pygments_lexer": "ipython3",
   "version": "3.10.12"
  }
 },
 "nbformat": 4,
 "nbformat_minor": 2
}
