{
 "cells": [
  {
   "cell_type": "code",
   "execution_count": 1,
   "metadata": {},
   "outputs": [],
   "source": [
    "import os\n",
    "from influence_moo.config import load_config"
   ]
  },
  {
   "cell_type": "code",
   "execution_count": 2,
   "metadata": {},
   "outputs": [],
   "source": [
    "top_dir = \"~/influence-multi-objective/results/captain_d/redo2\"\n",
    "batch_dir_root = '~/influence-multi-objective/sbatch/sep_30_2024/'"
   ]
  },
  {
   "cell_type": "code",
   "execution_count": 3,
   "metadata": {},
   "outputs": [],
   "source": [
    "def contractuser(path, user):\n",
    "    return str.replace(path, user, \"~\")\n",
    "\n",
    "config_dirs = []\n",
    "for dirpath, _, filenames in os.walk(os.path.expanduser(top_dir)):\n",
    "    for filename in filenames:\n",
    "        if filename == 'config.yaml':\n",
    "            config_dir = contractuser(dirpath, '/home/gonzaeve')+'/config.yaml'\n",
    "            config_dirs.append(config_dir)\n"
   ]
  },
  {
   "cell_type": "code",
   "execution_count": 4,
   "metadata": {},
   "outputs": [
    {
     "name": "stdout",
     "output_type": "stream",
     "text": [
      "~/influence-multi-objective/results/captain_d/redo2/D-Indirect-Traj/config.yaml\n",
      "~/influence-multi-objective/results/captain_d/redo2/fitness_critic/config.yaml\n",
      "~/influence-multi-objective/results/captain_d/redo2/D/config.yaml\n",
      "~/influence-multi-objective/results/captain_d/redo2/G/config.yaml\n",
      "~/influence-multi-objective/results/captain_d/redo2/D-Indirect-Step/config.yaml\n",
      "~/influence-multi-objective/results/captain_d/redo2/alignment/config.yaml\n"
     ]
    }
   ],
   "source": [
    "for c in config_dirs:\n",
    "    print(c)"
   ]
  },
  {
   "cell_type": "code",
   "execution_count": 5,
   "metadata": {},
   "outputs": [],
   "source": [
    "commands = []\n",
    "for config_dir in config_dirs:\n",
    "    command_start = 'python ~/influence-multi-objective/influence_moo/influence_moo/run_cli.py '\n",
    "    config = load_config(config_dir)\n",
    "    num_trials = config['experiment']['num_trials']\n",
    "    for t in range(num_trials):\n",
    "        command = command_start + config_dir + ' -t ' + str(t)\n",
    "        commands.append(command)"
   ]
  },
  {
   "cell_type": "code",
   "execution_count": 6,
   "metadata": {},
   "outputs": [
    {
     "name": "stdout",
     "output_type": "stream",
     "text": [
      "python ~/influence-multi-objective/influence_moo/influence_moo/run_cli.py ~/influence-multi-objective/results/captain_d/redo2/D-Indirect-Traj/config.yaml -t 0\n",
      "python ~/influence-multi-objective/influence_moo/influence_moo/run_cli.py ~/influence-multi-objective/results/captain_d/redo2/D-Indirect-Traj/config.yaml -t 1\n",
      "python ~/influence-multi-objective/influence_moo/influence_moo/run_cli.py ~/influence-multi-objective/results/captain_d/redo2/D-Indirect-Traj/config.yaml -t 2\n",
      "python ~/influence-multi-objective/influence_moo/influence_moo/run_cli.py ~/influence-multi-objective/results/captain_d/redo2/D-Indirect-Traj/config.yaml -t 3\n",
      "python ~/influence-multi-objective/influence_moo/influence_moo/run_cli.py ~/influence-multi-objective/results/captain_d/redo2/D-Indirect-Traj/config.yaml -t 4\n",
      "python ~/influence-multi-objective/influence_moo/influence_moo/run_cli.py ~/influence-multi-objective/results/captain_d/redo2/D-Indirect-Traj/config.yaml -t 5\n",
      "python ~/influence-multi-objective/influence_moo/influence_moo/run_cli.py ~/influence-multi-objective/results/captain_d/redo2/D-Indirect-Traj/config.yaml -t 6\n",
      "python ~/influence-multi-objective/influence_moo/influence_moo/run_cli.py ~/influence-multi-objective/results/captain_d/redo2/D-Indirect-Traj/config.yaml -t 7\n",
      "python ~/influence-multi-objective/influence_moo/influence_moo/run_cli.py ~/influence-multi-objective/results/captain_d/redo2/D-Indirect-Traj/config.yaml -t 8\n",
      "python ~/influence-multi-objective/influence_moo/influence_moo/run_cli.py ~/influence-multi-objective/results/captain_d/redo2/D-Indirect-Traj/config.yaml -t 9\n",
      "python ~/influence-multi-objective/influence_moo/influence_moo/run_cli.py ~/influence-multi-objective/results/captain_d/redo2/fitness_critic/config.yaml -t 0\n",
      "python ~/influence-multi-objective/influence_moo/influence_moo/run_cli.py ~/influence-multi-objective/results/captain_d/redo2/fitness_critic/config.yaml -t 1\n",
      "python ~/influence-multi-objective/influence_moo/influence_moo/run_cli.py ~/influence-multi-objective/results/captain_d/redo2/fitness_critic/config.yaml -t 2\n",
      "python ~/influence-multi-objective/influence_moo/influence_moo/run_cli.py ~/influence-multi-objective/results/captain_d/redo2/fitness_critic/config.yaml -t 3\n",
      "python ~/influence-multi-objective/influence_moo/influence_moo/run_cli.py ~/influence-multi-objective/results/captain_d/redo2/fitness_critic/config.yaml -t 4\n",
      "python ~/influence-multi-objective/influence_moo/influence_moo/run_cli.py ~/influence-multi-objective/results/captain_d/redo2/fitness_critic/config.yaml -t 5\n",
      "python ~/influence-multi-objective/influence_moo/influence_moo/run_cli.py ~/influence-multi-objective/results/captain_d/redo2/fitness_critic/config.yaml -t 6\n",
      "python ~/influence-multi-objective/influence_moo/influence_moo/run_cli.py ~/influence-multi-objective/results/captain_d/redo2/fitness_critic/config.yaml -t 7\n",
      "python ~/influence-multi-objective/influence_moo/influence_moo/run_cli.py ~/influence-multi-objective/results/captain_d/redo2/fitness_critic/config.yaml -t 8\n",
      "python ~/influence-multi-objective/influence_moo/influence_moo/run_cli.py ~/influence-multi-objective/results/captain_d/redo2/fitness_critic/config.yaml -t 9\n",
      "python ~/influence-multi-objective/influence_moo/influence_moo/run_cli.py ~/influence-multi-objective/results/captain_d/redo2/D/config.yaml -t 0\n",
      "python ~/influence-multi-objective/influence_moo/influence_moo/run_cli.py ~/influence-multi-objective/results/captain_d/redo2/D/config.yaml -t 1\n",
      "python ~/influence-multi-objective/influence_moo/influence_moo/run_cli.py ~/influence-multi-objective/results/captain_d/redo2/D/config.yaml -t 2\n",
      "python ~/influence-multi-objective/influence_moo/influence_moo/run_cli.py ~/influence-multi-objective/results/captain_d/redo2/D/config.yaml -t 3\n",
      "python ~/influence-multi-objective/influence_moo/influence_moo/run_cli.py ~/influence-multi-objective/results/captain_d/redo2/D/config.yaml -t 4\n",
      "python ~/influence-multi-objective/influence_moo/influence_moo/run_cli.py ~/influence-multi-objective/results/captain_d/redo2/D/config.yaml -t 5\n",
      "python ~/influence-multi-objective/influence_moo/influence_moo/run_cli.py ~/influence-multi-objective/results/captain_d/redo2/D/config.yaml -t 6\n",
      "python ~/influence-multi-objective/influence_moo/influence_moo/run_cli.py ~/influence-multi-objective/results/captain_d/redo2/D/config.yaml -t 7\n",
      "python ~/influence-multi-objective/influence_moo/influence_moo/run_cli.py ~/influence-multi-objective/results/captain_d/redo2/D/config.yaml -t 8\n",
      "python ~/influence-multi-objective/influence_moo/influence_moo/run_cli.py ~/influence-multi-objective/results/captain_d/redo2/D/config.yaml -t 9\n",
      "python ~/influence-multi-objective/influence_moo/influence_moo/run_cli.py ~/influence-multi-objective/results/captain_d/redo2/G/config.yaml -t 0\n",
      "python ~/influence-multi-objective/influence_moo/influence_moo/run_cli.py ~/influence-multi-objective/results/captain_d/redo2/G/config.yaml -t 1\n",
      "python ~/influence-multi-objective/influence_moo/influence_moo/run_cli.py ~/influence-multi-objective/results/captain_d/redo2/G/config.yaml -t 2\n",
      "python ~/influence-multi-objective/influence_moo/influence_moo/run_cli.py ~/influence-multi-objective/results/captain_d/redo2/G/config.yaml -t 3\n",
      "python ~/influence-multi-objective/influence_moo/influence_moo/run_cli.py ~/influence-multi-objective/results/captain_d/redo2/G/config.yaml -t 4\n",
      "python ~/influence-multi-objective/influence_moo/influence_moo/run_cli.py ~/influence-multi-objective/results/captain_d/redo2/G/config.yaml -t 5\n",
      "python ~/influence-multi-objective/influence_moo/influence_moo/run_cli.py ~/influence-multi-objective/results/captain_d/redo2/G/config.yaml -t 6\n",
      "python ~/influence-multi-objective/influence_moo/influence_moo/run_cli.py ~/influence-multi-objective/results/captain_d/redo2/G/config.yaml -t 7\n",
      "python ~/influence-multi-objective/influence_moo/influence_moo/run_cli.py ~/influence-multi-objective/results/captain_d/redo2/G/config.yaml -t 8\n",
      "python ~/influence-multi-objective/influence_moo/influence_moo/run_cli.py ~/influence-multi-objective/results/captain_d/redo2/G/config.yaml -t 9\n",
      "python ~/influence-multi-objective/influence_moo/influence_moo/run_cli.py ~/influence-multi-objective/results/captain_d/redo2/D-Indirect-Step/config.yaml -t 0\n",
      "python ~/influence-multi-objective/influence_moo/influence_moo/run_cli.py ~/influence-multi-objective/results/captain_d/redo2/D-Indirect-Step/config.yaml -t 1\n",
      "python ~/influence-multi-objective/influence_moo/influence_moo/run_cli.py ~/influence-multi-objective/results/captain_d/redo2/D-Indirect-Step/config.yaml -t 2\n",
      "python ~/influence-multi-objective/influence_moo/influence_moo/run_cli.py ~/influence-multi-objective/results/captain_d/redo2/D-Indirect-Step/config.yaml -t 3\n",
      "python ~/influence-multi-objective/influence_moo/influence_moo/run_cli.py ~/influence-multi-objective/results/captain_d/redo2/D-Indirect-Step/config.yaml -t 4\n",
      "python ~/influence-multi-objective/influence_moo/influence_moo/run_cli.py ~/influence-multi-objective/results/captain_d/redo2/D-Indirect-Step/config.yaml -t 5\n",
      "python ~/influence-multi-objective/influence_moo/influence_moo/run_cli.py ~/influence-multi-objective/results/captain_d/redo2/D-Indirect-Step/config.yaml -t 6\n",
      "python ~/influence-multi-objective/influence_moo/influence_moo/run_cli.py ~/influence-multi-objective/results/captain_d/redo2/D-Indirect-Step/config.yaml -t 7\n",
      "python ~/influence-multi-objective/influence_moo/influence_moo/run_cli.py ~/influence-multi-objective/results/captain_d/redo2/D-Indirect-Step/config.yaml -t 8\n",
      "python ~/influence-multi-objective/influence_moo/influence_moo/run_cli.py ~/influence-multi-objective/results/captain_d/redo2/D-Indirect-Step/config.yaml -t 9\n",
      "python ~/influence-multi-objective/influence_moo/influence_moo/run_cli.py ~/influence-multi-objective/results/captain_d/redo2/alignment/config.yaml -t 0\n",
      "python ~/influence-multi-objective/influence_moo/influence_moo/run_cli.py ~/influence-multi-objective/results/captain_d/redo2/alignment/config.yaml -t 1\n",
      "python ~/influence-multi-objective/influence_moo/influence_moo/run_cli.py ~/influence-multi-objective/results/captain_d/redo2/alignment/config.yaml -t 2\n",
      "python ~/influence-multi-objective/influence_moo/influence_moo/run_cli.py ~/influence-multi-objective/results/captain_d/redo2/alignment/config.yaml -t 3\n",
      "python ~/influence-multi-objective/influence_moo/influence_moo/run_cli.py ~/influence-multi-objective/results/captain_d/redo2/alignment/config.yaml -t 4\n",
      "python ~/influence-multi-objective/influence_moo/influence_moo/run_cli.py ~/influence-multi-objective/results/captain_d/redo2/alignment/config.yaml -t 5\n",
      "python ~/influence-multi-objective/influence_moo/influence_moo/run_cli.py ~/influence-multi-objective/results/captain_d/redo2/alignment/config.yaml -t 6\n",
      "python ~/influence-multi-objective/influence_moo/influence_moo/run_cli.py ~/influence-multi-objective/results/captain_d/redo2/alignment/config.yaml -t 7\n",
      "python ~/influence-multi-objective/influence_moo/influence_moo/run_cli.py ~/influence-multi-objective/results/captain_d/redo2/alignment/config.yaml -t 8\n",
      "python ~/influence-multi-objective/influence_moo/influence_moo/run_cli.py ~/influence-multi-objective/results/captain_d/redo2/alignment/config.yaml -t 9\n"
     ]
    }
   ],
   "source": [
    "for c in commands:\n",
    "    print(c)"
   ]
  },
  {
   "cell_type": "code",
   "execution_count": 7,
   "metadata": {},
   "outputs": [],
   "source": [
    "file_dirs = []\n",
    "\n",
    "spacer = 'trials'\n",
    "batch_dir = batch_dir_root+spacer\n",
    "\n",
    "for c in commands:\n",
    "    experiment_name = c.split(' ')[2].replace('/', '.').replace('~.influence-multi-objective.results.', '').replace('.config.yaml','')\n",
    "    trial_num = c.split(' ')[-1]\n",
    "    file_name = experiment_name +'.'+trial_num+'.sh'\n",
    "    file_dir = batch_dir + '/' + file_name\n",
    "    file_dirs.append(file_dir)"
   ]
  },
  {
   "cell_type": "code",
   "execution_count": 8,
   "metadata": {},
   "outputs": [
    {
     "name": "stdout",
     "output_type": "stream",
     "text": [
      "~/influence-multi-objective/sbatch/sep_30_2024/trials/captain_d.redo2.D-Indirect-Traj.0.sh\n",
      "~/influence-multi-objective/sbatch/sep_30_2024/trials/captain_d.redo2.D-Indirect-Traj.1.sh\n",
      "~/influence-multi-objective/sbatch/sep_30_2024/trials/captain_d.redo2.D-Indirect-Traj.2.sh\n",
      "~/influence-multi-objective/sbatch/sep_30_2024/trials/captain_d.redo2.D-Indirect-Traj.3.sh\n",
      "~/influence-multi-objective/sbatch/sep_30_2024/trials/captain_d.redo2.D-Indirect-Traj.4.sh\n",
      "~/influence-multi-objective/sbatch/sep_30_2024/trials/captain_d.redo2.D-Indirect-Traj.5.sh\n",
      "~/influence-multi-objective/sbatch/sep_30_2024/trials/captain_d.redo2.D-Indirect-Traj.6.sh\n",
      "~/influence-multi-objective/sbatch/sep_30_2024/trials/captain_d.redo2.D-Indirect-Traj.7.sh\n",
      "~/influence-multi-objective/sbatch/sep_30_2024/trials/captain_d.redo2.D-Indirect-Traj.8.sh\n",
      "~/influence-multi-objective/sbatch/sep_30_2024/trials/captain_d.redo2.D-Indirect-Traj.9.sh\n",
      "~/influence-multi-objective/sbatch/sep_30_2024/trials/captain_d.redo2.fitness_critic.0.sh\n",
      "~/influence-multi-objective/sbatch/sep_30_2024/trials/captain_d.redo2.fitness_critic.1.sh\n",
      "~/influence-multi-objective/sbatch/sep_30_2024/trials/captain_d.redo2.fitness_critic.2.sh\n",
      "~/influence-multi-objective/sbatch/sep_30_2024/trials/captain_d.redo2.fitness_critic.3.sh\n",
      "~/influence-multi-objective/sbatch/sep_30_2024/trials/captain_d.redo2.fitness_critic.4.sh\n",
      "~/influence-multi-objective/sbatch/sep_30_2024/trials/captain_d.redo2.fitness_critic.5.sh\n",
      "~/influence-multi-objective/sbatch/sep_30_2024/trials/captain_d.redo2.fitness_critic.6.sh\n",
      "~/influence-multi-objective/sbatch/sep_30_2024/trials/captain_d.redo2.fitness_critic.7.sh\n",
      "~/influence-multi-objective/sbatch/sep_30_2024/trials/captain_d.redo2.fitness_critic.8.sh\n",
      "~/influence-multi-objective/sbatch/sep_30_2024/trials/captain_d.redo2.fitness_critic.9.sh\n",
      "~/influence-multi-objective/sbatch/sep_30_2024/trials/captain_d.redo2.D.0.sh\n",
      "~/influence-multi-objective/sbatch/sep_30_2024/trials/captain_d.redo2.D.1.sh\n",
      "~/influence-multi-objective/sbatch/sep_30_2024/trials/captain_d.redo2.D.2.sh\n",
      "~/influence-multi-objective/sbatch/sep_30_2024/trials/captain_d.redo2.D.3.sh\n",
      "~/influence-multi-objective/sbatch/sep_30_2024/trials/captain_d.redo2.D.4.sh\n",
      "~/influence-multi-objective/sbatch/sep_30_2024/trials/captain_d.redo2.D.5.sh\n",
      "~/influence-multi-objective/sbatch/sep_30_2024/trials/captain_d.redo2.D.6.sh\n",
      "~/influence-multi-objective/sbatch/sep_30_2024/trials/captain_d.redo2.D.7.sh\n",
      "~/influence-multi-objective/sbatch/sep_30_2024/trials/captain_d.redo2.D.8.sh\n",
      "~/influence-multi-objective/sbatch/sep_30_2024/trials/captain_d.redo2.D.9.sh\n",
      "~/influence-multi-objective/sbatch/sep_30_2024/trials/captain_d.redo2.G.0.sh\n",
      "~/influence-multi-objective/sbatch/sep_30_2024/trials/captain_d.redo2.G.1.sh\n",
      "~/influence-multi-objective/sbatch/sep_30_2024/trials/captain_d.redo2.G.2.sh\n",
      "~/influence-multi-objective/sbatch/sep_30_2024/trials/captain_d.redo2.G.3.sh\n",
      "~/influence-multi-objective/sbatch/sep_30_2024/trials/captain_d.redo2.G.4.sh\n",
      "~/influence-multi-objective/sbatch/sep_30_2024/trials/captain_d.redo2.G.5.sh\n",
      "~/influence-multi-objective/sbatch/sep_30_2024/trials/captain_d.redo2.G.6.sh\n",
      "~/influence-multi-objective/sbatch/sep_30_2024/trials/captain_d.redo2.G.7.sh\n",
      "~/influence-multi-objective/sbatch/sep_30_2024/trials/captain_d.redo2.G.8.sh\n",
      "~/influence-multi-objective/sbatch/sep_30_2024/trials/captain_d.redo2.G.9.sh\n",
      "~/influence-multi-objective/sbatch/sep_30_2024/trials/captain_d.redo2.D-Indirect-Step.0.sh\n",
      "~/influence-multi-objective/sbatch/sep_30_2024/trials/captain_d.redo2.D-Indirect-Step.1.sh\n",
      "~/influence-multi-objective/sbatch/sep_30_2024/trials/captain_d.redo2.D-Indirect-Step.2.sh\n",
      "~/influence-multi-objective/sbatch/sep_30_2024/trials/captain_d.redo2.D-Indirect-Step.3.sh\n",
      "~/influence-multi-objective/sbatch/sep_30_2024/trials/captain_d.redo2.D-Indirect-Step.4.sh\n",
      "~/influence-multi-objective/sbatch/sep_30_2024/trials/captain_d.redo2.D-Indirect-Step.5.sh\n",
      "~/influence-multi-objective/sbatch/sep_30_2024/trials/captain_d.redo2.D-Indirect-Step.6.sh\n",
      "~/influence-multi-objective/sbatch/sep_30_2024/trials/captain_d.redo2.D-Indirect-Step.7.sh\n",
      "~/influence-multi-objective/sbatch/sep_30_2024/trials/captain_d.redo2.D-Indirect-Step.8.sh\n",
      "~/influence-multi-objective/sbatch/sep_30_2024/trials/captain_d.redo2.D-Indirect-Step.9.sh\n",
      "~/influence-multi-objective/sbatch/sep_30_2024/trials/captain_d.redo2.alignment.0.sh\n",
      "~/influence-multi-objective/sbatch/sep_30_2024/trials/captain_d.redo2.alignment.1.sh\n",
      "~/influence-multi-objective/sbatch/sep_30_2024/trials/captain_d.redo2.alignment.2.sh\n",
      "~/influence-multi-objective/sbatch/sep_30_2024/trials/captain_d.redo2.alignment.3.sh\n",
      "~/influence-multi-objective/sbatch/sep_30_2024/trials/captain_d.redo2.alignment.4.sh\n",
      "~/influence-multi-objective/sbatch/sep_30_2024/trials/captain_d.redo2.alignment.5.sh\n",
      "~/influence-multi-objective/sbatch/sep_30_2024/trials/captain_d.redo2.alignment.6.sh\n",
      "~/influence-multi-objective/sbatch/sep_30_2024/trials/captain_d.redo2.alignment.7.sh\n",
      "~/influence-multi-objective/sbatch/sep_30_2024/trials/captain_d.redo2.alignment.8.sh\n",
      "~/influence-multi-objective/sbatch/sep_30_2024/trials/captain_d.redo2.alignment.9.sh\n"
     ]
    }
   ],
   "source": [
    "for f in file_dirs:\n",
    "    print(f)"
   ]
  },
  {
   "cell_type": "code",
   "execution_count": 9,
   "metadata": {},
   "outputs": [],
   "source": [
    "# Define the string you want to write\n",
    "file_str_start = \\\n",
    "\"\"\"#!/bin/bash\n",
    "#SBATCH --time=1-00:00:00\n",
    "#SBATCH --constraint=skylake\n",
    "#SBATCH --mem=8G\n",
    "#SBATCH -c 4\n",
    "\n",
    "module load python/3.10\n",
    "source ~/venv/influence/bin/activate\n",
    "\n",
    "\"\"\"\n",
    "if not os.path.exists(os.path.expanduser(batch_dir)):\n",
    "    os.makedirs(os.path.expanduser(batch_dir))\n",
    "for c, f in zip(commands, file_dirs):\n",
    "    file_str = file_str_start + '\\n' + c + '\\n'\n",
    "    with open(os.path.expanduser(f), 'w') as file:\n",
    "        file.write(file_str)"
   ]
  },
  {
   "cell_type": "code",
   "execution_count": 10,
   "metadata": {},
   "outputs": [],
   "source": [
    "batch_commands = []\n",
    "\n",
    "for f in file_dirs:\n",
    "    batch_commands.append('sbatch '+f)\n",
    "\n",
    "batch_file_str = '\\n'.join(batch_commands)+'\\n'\n",
    "with open(os.path.expanduser(batch_dir_root+'/sbatch.sh'), 'w') as file:\n",
    "    file.write(batch_file_str)"
   ]
  },
  {
   "cell_type": "code",
   "execution_count": null,
   "metadata": {},
   "outputs": [],
   "source": []
  },
  {
   "cell_type": "code",
   "execution_count": null,
   "metadata": {},
   "outputs": [],
   "source": []
  }
 ],
 "metadata": {
  "kernelspec": {
   "display_name": "basic",
   "language": "python",
   "name": "python3"
  },
  "language_info": {
   "codemirror_mode": {
    "name": "ipython",
    "version": 3
   },
   "file_extension": ".py",
   "mimetype": "text/x-python",
   "name": "python",
   "nbconvert_exporter": "python",
   "pygments_lexer": "ipython3",
   "version": "3.10.12"
  }
 },
 "nbformat": 4,
 "nbformat_minor": 2
}
