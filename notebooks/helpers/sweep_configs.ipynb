{
 "cells": [
  {
   "cell_type": "code",
   "execution_count": 2,
   "metadata": {},
   "outputs": [],
   "source": [
    "import yaml\n",
    "import os\n",
    "import pprint\n",
    "from copy import deepcopy\n",
    "import pandas as pd\n",
    "from pathlib import Path\n",
    "from influence_moo.config import load_config, merge_dicts, expand_keys"
   ]
  },
  {
   "cell_type": "code",
   "execution_count": 4,
   "metadata": {},
   "outputs": [],
   "source": [
    "base_config_dir = '~/influence-multi-objective/example_sweep/base_config.yaml'\n",
    "sweep_config_dir = '~/influence-multi-objective/example_sweep/sweep.yaml'\n",
    "top_dir = \"~/influence-multi-objective/results/auto-generated/\"\n",
    "\n",
    "# Load in the base config\n",
    "base_config = load_config(base_config_dir)\n",
    "\n",
    "# Load in sweep config\n",
    "sweep_config = load_config(sweep_config_dir)"
   ]
  },
  {
   "cell_type": "code",
   "execution_count": 10,
   "metadata": {},
   "outputs": [],
   "source": [
    "# Expand the keys in the sweep config\n",
    "expand_keys(sweep_config)\n",
    "\n",
    "big_config = {}\n",
    "for p in sweep_config['parameter_sets']:\n",
    "    big_config[p] = {}\n",
    "    for r in sweep_config['rewards']:\n",
    "        # Make a copy of the base config\n",
    "        new_config = deepcopy(base_config)\n",
    "        # Merge in the specific parameter set for this config\n",
    "        merge_dicts(new_config, sweep_config['parameter_sets'][p])\n",
    "        # Merge in the reward parameters for this config\n",
    "        merge_dicts(new_config, sweep_config['rewards'][r])\n",
    "        big_config[p][r] = new_config\n",
    "\n",
    "# Now turn this into a list of directories with the corresponding config we are going to save there\n",
    "directory_dict = {}\n",
    "for p in big_config:\n",
    "    for r in big_config[p]:\n",
    "        dir = Path(p) / r\n",
    "        directory_dict[dir]  = big_config[p][r]"
   ]
  },
  {
   "cell_type": "code",
   "execution_count": 14,
   "metadata": {},
   "outputs": [],
   "source": [
    "for dir in directory_dict:\n",
    "    write_dir = Path(os.path.expanduser(top_dir)) / dir\n",
    "    if not os.path.exists(write_dir):\n",
    "        os.makedirs(write_dir, exist_ok = True)\n",
    "    with open(write_dir/'config.yaml', 'w') as file:\n",
    "        yaml.dump(directory_dict[dir], file, default_flow_style=False)  # `default_flow_style=False` makes the output more readable"
   ]
  },
  {
   "cell_type": "code",
   "execution_count": null,
   "metadata": {},
   "outputs": [],
   "source": []
  }
 ],
 "metadata": {
  "kernelspec": {
   "display_name": "basic",
   "language": "python",
   "name": "python3"
  },
  "language_info": {
   "codemirror_mode": {
    "name": "ipython",
    "version": 3
   },
   "file_extension": ".py",
   "mimetype": "text/x-python",
   "name": "python",
   "nbconvert_exporter": "python",
   "pygments_lexer": "ipython3",
   "version": "3.10.12"
  }
 },
 "nbformat": 4,
 "nbformat_minor": 2
}
