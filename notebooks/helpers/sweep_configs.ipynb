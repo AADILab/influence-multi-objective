{
 "cells": [
  {
   "cell_type": "code",
   "execution_count": 1,
   "metadata": {},
   "outputs": [],
   "source": [
    "import yaml\n",
    "import os\n",
    "import pprint\n",
    "from copy import deepcopy\n",
    "import pandas as pd\n",
    "from pathlib import Path\n",
    "from influence_moo.config import load_config, consolidate_parameters, create_directory_dict, expand_keys, expand_directory_dict, write_directory_dict"
   ]
  },
  {
   "cell_type": "code",
   "execution_count": 3,
   "metadata": {},
   "outputs": [],
   "source": [
    "sweep_config_dir = '~/influence-multi-objective/example_sweep/sweep.yaml'\n",
    "top_dir = \"~/influence-multi-objective/results/auto-generated/\"\n",
    "\n",
    "# Load in sweep config\n",
    "sweep_config = load_config(sweep_config_dir)\n",
    "expand_keys(sweep_config);"
   ]
  },
  {
   "cell_type": "code",
   "execution_count": 4,
   "metadata": {},
   "outputs": [],
   "source": [
    "consolidated_dict = consolidate_parameters(sweep_config['parameter_dicts'])\n",
    "directory_dict = create_directory_dict(consolidated_dict, path_len=len(sweep_config['parameter_dicts'])-1)\n",
    "expand_directory_dict(directory_dict, sweep_config['base_dict'])\n",
    "write_directory_dict(directory_dict, top_dir)"
   ]
  },
  {
   "cell_type": "code",
   "execution_count": 11,
   "metadata": {},
   "outputs": [],
   "source": []
  },
  {
   "cell_type": "code",
   "execution_count": 12,
   "metadata": {},
   "outputs": [],
   "source": []
  },
  {
   "cell_type": "code",
   "execution_count": 5,
   "metadata": {},
   "outputs": [],
   "source": [
    "for dir in directory_dict:\n",
    "    write_dir = Path(os.path.expanduser(top_dir)) / dir\n",
    "    if not os.path.exists(write_dir):\n",
    "        os.makedirs(write_dir, exist_ok = True)\n",
    "    with open(write_dir/'config.yaml', 'w') as file:\n",
    "        yaml.dump(directory_dict[dir], file, default_flow_style=False)  # `default_flow_style=False` makes the output more readable"
   ]
  },
  {
   "cell_type": "code",
   "execution_count": null,
   "metadata": {},
   "outputs": [],
   "source": []
  }
 ],
 "metadata": {
  "kernelspec": {
   "display_name": "basic",
   "language": "python",
   "name": "python3"
  },
  "language_info": {
   "codemirror_mode": {
    "name": "ipython",
    "version": 3
   },
   "file_extension": ".py",
   "mimetype": "text/x-python",
   "name": "python",
   "nbconvert_exporter": "python",
   "pygments_lexer": "ipython3",
   "version": "3.10.12"
  }
 },
 "nbformat": 4,
 "nbformat_minor": 2
}
