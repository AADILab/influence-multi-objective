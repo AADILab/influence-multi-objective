{
 "cells": [
  {
   "cell_type": "code",
   "execution_count": 1,
   "metadata": {},
   "outputs": [],
   "source": [
    "\"\"\"Make sure the reward functions work how I expect them to\"\"\"\n",
    "from copy import deepcopy\n",
    "import numpy as np\n",
    "import matplotlib.pyplot as plt\n",
    "from influence_moo.env.env import Rewards, AUV, ASV, POI\n",
    "from influence_moo.plotting import plot_grid, plot_pts"
   ]
  },
  {
   "cell_type": "code",
   "execution_count": 2,
   "metadata": {},
   "outputs": [
    {
     "data": {
      "image/png": "[encoded data removed]",
      "text/plain": [
       "<Figure size 640x480 with 1 Axes>"
      ]
     },
     "metadata": {},
     "output_type": "display_data"
    }
   ],
   "source": [
    "# Spoof a rollout\n",
    "connectivity_grid = np.ones((20, 10))\n",
    "connectivity_grid[10,:] = 0.0\n",
    "connectivity_grid[5,2:8] = 0.0\n",
    "connectivity_grid[10:,3] = 0.0\n",
    "\n",
    "pois = [\n",
    "    POI(position=np.array([1,9]), value=0.3, observation_radius=1.0),\n",
    "    POI(position=np.array([1,1]), value=2.5, observation_radius=1.0),\n",
    "    POI(position=np.array([16,8]), value=1.2, observation_radius = 1.0),\n",
    "    POI(position=np.array([19,2]), value=3.7, observation_radius = 1.0)\n",
    "]\n",
    "poi_positions = np.array([poi.position for poi in pois])\n",
    "\n",
    "auvs = [\n",
    "    AUV(targets=[None], max_velocity=None),\n",
    "    AUV(targets=[None], max_velocity=None),\n",
    "    AUV(targets=[None], max_velocity=None)\n",
    "]\n",
    "\n",
    "# For tracking auvs during testing\n",
    "for id, auv in enumerate(auvs):\n",
    "    auv.id = id\n",
    "\n",
    "auv0_xs = np.linspace(1.,1.,100)\n",
    "auv0_ys = np.linspace(1.,9.,100)\n",
    "auvs[0].path = np.array([auv0_xs, auv0_ys]).T\n",
    "\n",
    "auv1_xs = np.linspace(12.,19.,100)\n",
    "auv1_ys = np.linspace(1.,2.,100)\n",
    "auvs[1].path = np.array([auv1_xs, auv1_ys]).T\n",
    "\n",
    "auv2_xs = np.linspace(12.,16.,100)\n",
    "auv2_ys = np.linspace(5.,8.,100)\n",
    "auvs[2].path = np.array([auv2_xs, auv2_ys]).T\n",
    "\n",
    "asvs = [\n",
    "    ASV(position=None, auvs=auvs, connectivity_grid=None, policy_function=None),\n",
    "    ASV(position=None, auvs=auvs, connectivity_grid=None, policy_function=None)\n",
    "]\n",
    "\n",
    "# For tracking these asvs during testing\n",
    "for id, asv in enumerate(asvs):\n",
    "    asv.id = id\n",
    "\n",
    "asv0_xs = np.linspace(8.,8.,100)\n",
    "asv0_ys = np.linspace(8.,8.,100)\n",
    "asvs[0].path = np.array([asv0_xs, asv0_ys]).T\n",
    "\n",
    "asv1_xs = np.linspace(13,13,100)\n",
    "asv1_ys = np.linspace(8,8,100)\n",
    "asvs[1].path = np.array([asv1_xs, asv1_ys]).T\n",
    "\n",
    "fig, ax = plt.subplots(1,1,dpi=100)\n",
    "plot_grid(connectivity_grid, cmap='tab10_r')\n",
    "plot_pts(poi_positions, ax, marker='o', fillstyle='none', linestyle='none',color='tab:green')\n",
    "plot_pts(auvs[0].path, ax, ls=(0, (1,2)), color='pink', lw=1)\n",
    "plot_pts(auvs[1].path, ax, ls='dashed', color='purple', lw=1)\n",
    "plot_pts(auvs[2].path, ax, ls='dashdot', color='tab:cyan', lw=1)\n",
    "plot_pts(asvs[0].path, ax, marker='+', color='orange')\n",
    "plot_pts(asvs[1].path, ax, marker='+', color='tab:cyan')\n",
    "plot_pts(np.array([auvs[0].path[87]]), ax, marker='x', color='pink')\n",
    "# POI OBSERVATION RADIUS NOT TO SCALE"
   ]
  },
  {
   "cell_type": "code",
   "execution_count": 3,
   "metadata": {},
   "outputs": [
    {
     "name": "stdout",
     "output_type": "stream",
     "text": [
      "[[0.2999999999999998, 0.0, 0.0], [0.0, 0.0, 1.2000000000000002], 7.7]\n"
     ]
    }
   ],
   "source": [
    "# Calculate rewards for that rollout\n",
    "rewards = Rewards(\n",
    "    pois = pois,\n",
    "    connectivity_grid = connectivity_grid,\n",
    "    collision_step_size = 0.1,\n",
    "    influence_heuristic = \"line_of_sight\",\n",
    "    influence_type = \"granular\",\n",
    "    auv_reward = \"difference\",\n",
    "    asv_reward = \"indirect_difference_auv\",\n",
    "    multi_reward = \"multiple\",\n",
    "    distance_threshold = None\n",
    ")\n",
    "print(rewards.compute(auvs, asvs))"
   ]
  },
  {
   "cell_type": "code",
   "execution_count": 4,
   "metadata": {},
   "outputs": [
    {
     "name": "stdout",
     "output_type": "stream",
     "text": [
      "PASSED: G\n",
      "G:  7.7\n"
     ]
    }
   ],
   "source": [
    "\"\"\" I'm going to breakdown the rewards process and see if the output is correct at each step\"\"\"\n",
    "# Global reward\n",
    "G = rewards.global_(auvs=auvs)\n",
    "total_poi_value = sum([poi.value for poi in pois])\n",
    "if G == total_poi_value:\n",
    "    print(\"PASSED: G\")\n",
    "else:\n",
    "    print(\"FAILED: G\")\n",
    "print(\"G: \", G)"
   ]
  },
  {
   "cell_type": "code",
   "execution_count": 5,
   "metadata": {},
   "outputs": [
    {
     "name": "stdout",
     "output_type": "stream",
     "text": [
      "PASSED: influence_array\n"
     ]
    }
   ],
   "source": [
    "# Influence\n",
    "influence_array = rewards.influence_array(auvs=auvs, asvs=asvs)\n",
    "iv = np.zeros( (len(auvs[0].path), len(auvs)) )\n",
    "iv[87:, 0] = 1.\n",
    "iv[:,2] = 1.\n",
    "if np.allclose(influence_array , iv):\n",
    "    print(\"PASSED: influence_array\")\n",
    "else:\n",
    "    print(\"FAILED: influence_array\")"
   ]
  },
  {
   "cell_type": "code",
   "execution_count": 6,
   "metadata": {},
   "outputs": [
    {
     "name": "stdout",
     "output_type": "stream",
     "text": [
      "PASSED: asvs_minus_j_list\n"
     ]
    }
   ],
   "source": [
    "# Remove asvs\n",
    "asvs_minus_j_list = [\n",
    "    rewards.remove_agent(asvs, asv_ind) for asv_ind in range(len(asvs))\n",
    "]\n",
    "ids = []\n",
    "for asvs_minus_j in asvs_minus_j_list:\n",
    "    ids.append(asvs_minus_j[0].id)\n",
    "if len(ids) == 2 and ids[0] == 1 and ids[1] == 0:\n",
    "    print(\"PASSED: asvs_minus_j_list\")\n",
    "else:\n",
    "    print(\"FAILED: asvs_minus_j_list\")"
   ]
  },
  {
   "cell_type": "code",
   "execution_count": 7,
   "metadata": {},
   "outputs": [
    {
     "name": "stdout",
     "output_type": "stream",
     "text": [
      "PASSED: counterfactual_influence_list\n"
     ]
    }
   ],
   "source": [
    "# Create counterfactuals where we remove influence\n",
    "counterfactual_influence_list = [\n",
    "    rewards.influence_array(auvs, asvs_minus_j) for asvs_minus_j in asvs_minus_j_list\n",
    "]\n",
    "cil = [np.zeros(influence_array.shape), np.zeros(influence_array.shape)]\n",
    "cil[0][:,2] = 1.\n",
    "cil[1][87:,0] = 1.\n",
    "correct = True\n",
    "for c, ci in zip(counterfactual_influence_list, cil):\n",
    "    if not np.allclose(c,ci):\n",
    "        correct = False\n",
    "if correct:\n",
    "    print(\"PASSED: counterfactual_influence_list\")\n",
    "else:\n",
    "    print(\"FAILED: counterfactual_influence_list\")"
   ]
  },
  {
   "cell_type": "code",
   "execution_count": 8,
   "metadata": {},
   "outputs": [
    {
     "name": "stdout",
     "output_type": "stream",
     "text": [
      "PASSED: influence_j_list\n"
     ]
    }
   ],
   "source": [
    "# Compute the influence of each asv\n",
    "influence_j_list = [\n",
    "    influence_array - counterfactual_influence for counterfactual_influence in counterfactual_influence_list\n",
    "]\n",
    "# Influence of asv 0\n",
    "i0 = np.zeros(influence_array.shape)\n",
    "i0[87:,0] = 1.\n",
    "# Influence of asv 1\n",
    "i1 = np.zeros(influence_array.shape)\n",
    "i1[:,2] = 1.\n",
    "# Check\n",
    "correct = True\n",
    "for inf, i in zip(influence_j_list, [i0,i1]):\n",
    "    if not np.allclose(inf,i):\n",
    "        correct = False\n",
    "if correct:\n",
    "    print(\"PASSED: influence_j_list\")\n",
    "else:\n",
    "    print(\"FAILED: influence_j_list\")"
   ]
  },
  {
   "cell_type": "code",
   "execution_count": 9,
   "metadata": {},
   "outputs": [
    {
     "name": "stdout",
     "output_type": "stream",
     "text": [
      "PASSED: auvs_minus_j_list\n"
     ]
    }
   ],
   "source": [
    "# Now we remove the influence of each asv\n",
    "auvs_minus_j_list = [\n",
    "    rewards.remove_influence(auvs, influence_j) for influence_j in influence_j_list\n",
    "]\n",
    "\n",
    "def check_path(pathA, pathB):\n",
    "    for posA, posB in zip(pathA, pathB):\n",
    "        # Removed positions\n",
    "        if np.isnan(posA[0]) or np.isnan(posA[1]) or np.isnan(posB[0]) or np.isnan(posB[1]):\n",
    "            # Check that all positions are removed\n",
    "            if not(np.isnan(posA[0]) and np.isnan(posA[1]) and np.isnan(posB[0]) and np.isnan(posB[1])):\n",
    "                return False\n",
    "        else:\n",
    "            if not np.allclose(posA, posB):\n",
    "                return False\n",
    "    return True\n",
    "\n",
    "# When we remove asv 0, we remove the last observation of auv 0\n",
    "auvs_minus_0 = deepcopy(auvs)\n",
    "auvs_minus_0[0].path[87:,:] = np.nan\n",
    "\n",
    "# When we remove asv 1, we remove the entire path of auv 2\n",
    "auvs_minus_1 = deepcopy(auvs)\n",
    "auvs_minus_1[2].path[:,:] = np.nan\n",
    "\n",
    "auvs_minus_j_test = [auvs_minus_0, auvs_minus_1]\n",
    "correct = True\n",
    "for auvs_act, auvs_test in zip(auvs_minus_j_list, auvs_minus_j_test):\n",
    "    for auv_act, auv_test in zip(auvs_act, auvs_test):\n",
    "        if not check_path(auv_act.path, auv_test.path):\n",
    "            correct=False\n",
    "            break\n",
    "if correct:\n",
    "    print(\"PASSED: auvs_minus_j_list\")\n",
    "else:\n",
    "    print(\"FAILED: auvs_minus_j_list\")"
   ]
  },
  {
   "cell_type": "code",
   "execution_count": 10,
   "metadata": {},
   "outputs": [
    {
     "name": "stdout",
     "output_type": "stream",
     "text": [
      "PASSED: counterfactual_G_j_list\n"
     ]
    }
   ],
   "source": [
    "# Compute counterfactual G with asv influence removed\n",
    "counterfactual_G_j_list = [\n",
    "    rewards.global_(auvs_minus_j) for auvs_minus_j in auvs_minus_j_list\n",
    "]\n",
    "test_list = [\n",
    "    rewards.global_(auvs_minus_j) for auvs_minus_j in auvs_minus_j_test\n",
    "]\n",
    "target = [7.4, 6.5]\n",
    "if np.allclose(counterfactual_G_j_list, test_list) and np.allclose(counterfactual_G_j_list, target):\n",
    "    print(\"PASSED: counterfactual_G_j_list\")\n",
    "else:\n",
    "    print(\"FAILED: counterfactual_G_j_list\")"
   ]
  },
  {
   "cell_type": "code",
   "execution_count": 11,
   "metadata": {},
   "outputs": [
    {
     "name": "stdout",
     "output_type": "stream",
     "text": [
      "PASSED: indirect_difference_reward_team\n"
     ]
    }
   ],
   "source": [
    "# Compute D-Indirect according to team contribution\n",
    "indirect_difference_reward_team = [\n",
    "    G-counterfactual_G for counterfactual_G in counterfactual_G_j_list\n",
    "]\n",
    "target = [0.3, 1.2]\n",
    "if np.allclose(indirect_difference_reward_team, target):\n",
    "    print(\"PASSED: indirect_difference_reward_team\")\n",
    "else:\n",
    "    print(\"FAILED: indirect_difference_reward_team\")"
   ]
  },
  {
   "cell_type": "code",
   "execution_count": 12,
   "metadata": {},
   "outputs": [
    {
     "name": "stdout",
     "output_type": "stream",
     "text": [
      "PASSED: auvs_minus_i_list\n"
     ]
    }
   ],
   "source": [
    "\"\"\"Difference rewards for AUVs\"\"\"\n",
    "# Remove auv i\n",
    "auvs_minus_i_list = [rewards.remove_agent(auvs, auv_ind) for auv_ind in range(len(auvs))]\n",
    "test_list = [[1,2], [0,2], [0,1]]\n",
    "correct = True\n",
    "for auvs_minus_i, test_ids in zip(auvs_minus_i_list, test_list):\n",
    "    auv_ids = [auv.id for auv in auvs_minus_i]\n",
    "    if not np.allclose(auv_ids, test_ids):\n",
    "        correct = False\n",
    "        break\n",
    "if correct:\n",
    "    print(\"PASSED: auvs_minus_i_list\")\n",
    "else:\n",
    "    print(\"FAILED: auvs_minus_i_list\")"
   ]
  },
  {
   "cell_type": "code",
   "execution_count": 13,
   "metadata": {},
   "outputs": [
    {
     "name": "stdout",
     "output_type": "stream",
     "text": [
      "PASSED: counterfactual_G_remove_i_list\n"
     ]
    }
   ],
   "source": [
    "# Counterfactual G for each removed auv i\n",
    "counterfactual_G_remove_i_list = [\n",
    "    rewards.global_(auvs=auvs_minus_i) for auvs_minus_i in auvs_minus_i_list\n",
    "]\n",
    "target = [4.9, 4.0, 6.5]\n",
    "if np.allclose(counterfactual_G_remove_i_list, target):\n",
    "    print(\"PASSED: counterfactual_G_remove_i_list\")\n",
    "else:\n",
    "    print(\"FAILED: counterfactual_G_remove_i_list\")"
   ]
  },
  {
   "cell_type": "code",
   "execution_count": 14,
   "metadata": {},
   "outputs": [
    {
     "name": "stdout",
     "output_type": "stream",
     "text": [
      "PASSED: auv_rewards\n"
     ]
    }
   ],
   "source": [
    "# D for each auv i\n",
    "auv_rewards = [\n",
    "    G-counterfactual_G for counterfactual_G in counterfactual_G_remove_i_list\n",
    "]\n",
    "target = [2.8, 3.7, 1.2]\n",
    "if np.allclose(auv_rewards, target):\n",
    "    print(\"PASSED: auv_rewards\")\n",
    "else:\n",
    "    print(\"FAILED: auv_rewards\")"
   ]
  },
  {
   "cell_type": "code",
   "execution_count": 15,
   "metadata": {},
   "outputs": [
    {
     "name": "stdout",
     "output_type": "stream",
     "text": [
      "PASSED: auvs_minus_ij_list, auv_ind=0\n"
     ]
    }
   ],
   "source": [
    "\"\"\" Decompose each individual auv reward into many rewards. One for each asv. \"\"\"\n",
    "# Remove auv i from each set we removed asv j's influence from\n",
    "auv_ind = 0\n",
    "auvs_minus_ij_list = [\n",
    "    rewards.remove_agent(auvs_minus_j, auv_ind) for auvs_minus_j in auvs_minus_j_list\n",
    "]\n",
    "# Create counterfactuals manually to check if they match the automatically computed ones\n",
    "\n",
    "# When we remove influence of asv0, auv0 is the only one affected. So this is the same as\n",
    "# just removing auv0\n",
    "remove_asv0_auv0_auvpaths = [deepcopy(auv.path) for auv in auvs]\n",
    "remove_asv0_auv0_auvpaths = remove_asv0_auv0_auvpaths[1:]\n",
    "\n",
    "# When we remove influence of asv1, auv2 is affected. Change auv2's path to nans\n",
    "# Then remove auv0 entirely\n",
    "remove_asv1_auv0_auvpaths = [deepcopy(auv.path) for auv in auvs]\n",
    "remove_asv1_auv0_auvpaths[2][:,:] = np.nan\n",
    "remove_asv1_auv0_auvpaths = remove_asv1_auv0_auvpaths[1:]\n",
    "\n",
    "# Check if these counterfactual paths are correct\n",
    "correct_paths_asv0_auv0 = True\n",
    "for auv, test_path in zip(auvs_minus_ij_list[0], remove_asv0_auv0_auvpaths):\n",
    "    if not check_path(auv.path, test_path):\n",
    "        correct_paths_asv0_auv0 = False\n",
    "        break\n",
    "\n",
    "correct_paths_asv1_auv0 = True\n",
    "for auv, test_path in zip(auvs_minus_ij_list[1], remove_asv1_auv0_auvpaths):\n",
    "    if not check_path(auv.path, test_path):\n",
    "        correct_paths_asv1_auv0 = False\n",
    "        break\n",
    "\n",
    "if correct_paths_asv0_auv0 and correct_paths_asv1_auv0:\n",
    "    print(\"PASSED: auvs_minus_ij_list, auv_ind=0\")\n",
    "else:\n",
    "    print(\"FAILED: auvs_minus_ij_list, auv_ind=0\")"
   ]
  },
  {
   "cell_type": "code",
   "execution_count": 16,
   "metadata": {},
   "outputs": [
    {
     "name": "stdout",
     "output_type": "stream",
     "text": [
      "PASSED: counterfactual_G_ij_list, auv_ind=0\n"
     ]
    }
   ],
   "source": [
    "# Continue with computing counterfactual G with the removed asv j and auv 0\n",
    "counterfactual_G_ij_list = [\n",
    "    rewards.global_(auvs_minus_ij) for auvs_minus_ij in auvs_minus_ij_list\n",
    "]\n",
    "target = [4.9, 3.7]\n",
    "if np.allclose(counterfactual_G_ij_list, target):\n",
    "    print(\"PASSED: counterfactual_G_ij_list, auv_ind=0\")\n",
    "else:\n",
    "    print(\"FAILED: counterfactual_G_ij_list, auv_ind=0\")"
   ]
  },
  {
   "cell_type": "code",
   "execution_count": 17,
   "metadata": {},
   "outputs": [
    {
     "name": "stdout",
     "output_type": "stream",
     "text": [
      "PASSED: difference_ij_list, auv_ind=0\n"
     ]
    }
   ],
   "source": [
    "# Compute difference of (removing asv j's influence) - (removing asv j's influence and auv 0)\n",
    "difference_ij_list = [\n",
    "    G_j - G_ij for G_j, G_ij in zip(counterfactual_G_j_list, counterfactual_G_ij_list)\n",
    "]\n",
    "target = [2.5, 2.8]\n",
    "if np.allclose(difference_ij_list, target):\n",
    "    print(\"PASSED: difference_ij_list, auv_ind=0\")\n",
    "else:\n",
    "    print(\"FAILED: difference_ij_list, auv_ind=0\")"
   ]
  },
  {
   "cell_type": "code",
   "execution_count": 18,
   "metadata": {},
   "outputs": [
    {
     "name": "stdout",
     "output_type": "stream",
     "text": [
      "PASSED: indirect_difference_ij_list, auv_ind=0\n"
     ]
    }
   ],
   "source": [
    "D_i = auv_rewards[auv_ind]\n",
    "indirect_difference_ij_list = [\n",
    "    D_i - D_ij for D_ij in difference_ij_list\n",
    "]\n",
    "target = [0.3, 0]\n",
    "if np.allclose(indirect_difference_ij_list, target):\n",
    "    print(\"PASSED: indirect_difference_ij_list, auv_ind=0\")\n",
    "else:\n",
    "    print(\"FAILED: indirect_difference_ij_list, auv_ind=0\")"
   ]
  }
 ],
 "metadata": {
  "kernelspec": {
   "display_name": "basic",
   "language": "python",
   "name": "python3"
  },
  "language_info": {
   "codemirror_mode": {
    "name": "ipython",
    "version": 3
   },
   "file_extension": ".py",
   "mimetype": "text/x-python",
   "name": "python",
   "nbconvert_exporter": "python",
   "pygments_lexer": "ipython3",
   "version": "3.10.12"
  }
 },
 "nbformat": 4,
 "nbformat_minor": 2
}
