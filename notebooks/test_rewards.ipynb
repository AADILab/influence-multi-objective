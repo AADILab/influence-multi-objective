{
 "cells": [
  {
   "cell_type": "code",
   "execution_count": 1,
   "metadata": {},
   "outputs": [],
   "source": [
    "\"\"\"Make sure the reward functions work how I expect them to\"\"\"\n",
    "import numpy as np\n",
    "import matplotlib.pyplot as plt\n",
    "from influence_moo.env.env import Rewards, AUV, ASV, POI\n",
    "from influence_moo.plotting import plot_grid, plot_pts"
   ]
  },
  {
   "cell_type": "code",
   "execution_count": 2,
   "metadata": {},
   "outputs": [
    {
     "data": {
      "image/png": "[encoded data removed]",
      "text/plain": [
       "<Figure size 640x480 with 1 Axes>"
      ]
     },
     "metadata": {},
     "output_type": "display_data"
    }
   ],
   "source": [
    "# Spoof a rollout\n",
    "connectivity_grid = np.ones((20, 10))\n",
    "connectivity_grid[10,:] = 0.0\n",
    "connectivity_grid[5,2:8] = 0.0\n",
    "connectivity_grid[10:,3] = 0.0\n",
    "\n",
    "pois = [\n",
    "    POI(position=np.array([1,9]), value=0.3, observation_radius=1.0),\n",
    "    POI(position=np.array([1,1]), value=2.5, observation_radius=1.0),\n",
    "    POI(position=np.array([16,8]), value=1.2, observation_radius = 1.0),\n",
    "    POI(position=np.array([19,2]), value=3.7, observation_radius = 1.0)\n",
    "]\n",
    "poi_positions = np.array([poi.position for poi in pois])\n",
    "\n",
    "auvs = [\n",
    "    AUV(targets=[None], max_velocity=None),\n",
    "    AUV(targets=[None], max_velocity=None),\n",
    "    AUV(targets=[None], max_velocity=None)\n",
    "]\n",
    "\n",
    "auv0_xs = np.linspace(1.,1.,100)\n",
    "auv0_ys = np.linspace(1.,9.,100)\n",
    "auvs[0].path = np.array([auv0_xs, auv0_ys]).T\n",
    "\n",
    "auv1_xs = np.linspace(12.,19.,100)\n",
    "auv1_ys = np.linspace(1.,2.,100)\n",
    "auvs[1].path = np.array([auv1_xs, auv1_ys]).T\n",
    "\n",
    "auv2_xs = np.linspace(12.,16.,100)\n",
    "auv2_ys = np.linspace(5.,8.,100)\n",
    "auvs[2].path = np.array([auv2_xs, auv2_ys]).T\n",
    "\n",
    "asvs = [\n",
    "    ASV(position=None, auvs=auvs, connectivity_grid=None, policy_function=None),\n",
    "    ASV(position=None, auvs=auvs, connectivity_grid=None, policy_function=None)\n",
    "]\n",
    "\n",
    "asv0_xs = np.linspace(8.,8.,100)\n",
    "asv0_ys = np.linspace(8.,8.,100)\n",
    "asvs[0].path = np.array([asv0_xs, asv0_ys]).T\n",
    "\n",
    "asv1_xs = np.linspace(13,13,100)\n",
    "asv1_ys = np.linspace(8,8,100)\n",
    "asvs[1].path = np.array([asv1_xs, asv1_ys]).T\n",
    "\n",
    "fig, ax = plt.subplots(1,1,dpi=100)\n",
    "plot_grid(connectivity_grid, cmap='tab10_r')\n",
    "plot_pts(poi_positions, ax, marker='o', fillstyle='none', linestyle='none',color='tab:green')\n",
    "plot_pts(auvs[0].path, ax, ls=(0, (1,2)), color='pink', lw=1)\n",
    "plot_pts(auvs[1].path, ax, ls='dashed', color='purple', lw=1)\n",
    "plot_pts(auvs[2].path, ax, ls='dashdot', color='tab:cyan', lw=1)\n",
    "plot_pts(asvs[0].path, ax, marker='+', color='orange')\n",
    "plot_pts(asvs[1].path, ax, marker='+', color='tab:cyan')\n",
    "# POI OBSERVATION RADIUS NOT TO SCALE"
   ]
  },
  {
   "cell_type": "code",
   "execution_count": 4,
   "metadata": {},
   "outputs": [
    {
     "name": "stdout",
     "output_type": "stream",
     "text": [
      "Computed G\n",
      "Computed influence_array\n",
      "Computed asvs_minus_j_list\n",
      "Computed counterfactual_influence_list\n",
      "Computed influence_j_list\n",
      "Computed auvs_minus_j_list\n",
      "[[<influence_moo.env.env.AUV object at 0x717056e86710>, <influence_moo.env.env.AUV object at 0x717056e85960>, <influence_moo.env.env.AUV object at 0x717056ec4f10>], [<influence_moo.env.env.AUV object at 0x717056ec4e20>, <influence_moo.env.env.AUV object at 0x717056ec48b0>, <influence_moo.env.env.AUV object at 0x717056ec51e0>]]\n",
      "Computed counterfactual_G_j_list\n",
      "[[0.2999999999999998, -0.9000000000000004, 1.5999999999999996], [0.9000000000000004, 0.0, 3.7], 7.7]\n"
     ]
    }
   ],
   "source": [
    "# Calculate rewards for that rollout\n",
    "rewards = Rewards(\n",
    "    pois = pois,\n",
    "    connectivity_grid = connectivity_grid,\n",
    "    collision_step_size = 0.1,\n",
    "    influence_heuristic = \"line_of_sight\",\n",
    "    influence_type = \"granular\",\n",
    "    auv_reward = \"difference\",\n",
    "    asv_reward = \"indirect_difference_auv\",\n",
    "    multi_reward = \"multiple\",\n",
    "    distance_threshold = None\n",
    ")\n",
    "print(rewards.compute(auvs, asvs))"
   ]
  },
  {
   "cell_type": "code",
   "execution_count": 5,
   "metadata": {},
   "outputs": [
    {
     "name": "stdout",
     "output_type": "stream",
     "text": [
      "Computed G\n",
      "Computed influence_array\n",
      "Computed asvs_minus_j_list\n",
      "Computed counterfactual_influence_list\n",
      "Computed influence_j_list\n",
      "Computed auvs_minus_j_list\n",
      "[[<influence_moo.env.env.AUV object at 0x717056fdcee0>, <influence_moo.env.env.AUV object at 0x717056e86b30>, <influence_moo.env.env.AUV object at 0x717056e865f0>], [<influence_moo.env.env.AUV object at 0x717056e86c80>, <influence_moo.env.env.AUV object at 0x7170b1eabc10>, <influence_moo.env.env.AUV object at 0x7170b1f4bac0>]]\n",
      "Computed counterfactual_G_j_list\n",
      "[0.2999999999999998, 1.2000000000000002]\n"
     ]
    }
   ],
   "source": [
    "rewards = Rewards(\n",
    "    pois = pois,\n",
    "    connectivity_grid = connectivity_grid,\n",
    "    collision_step_size = 0.1,\n",
    "    influence_heuristic = \"line_of_sight\",\n",
    "    influence_type = \"granular\",\n",
    "    auv_reward = \"difference\",\n",
    "    asv_reward = \"indirect_difference_team\",\n",
    "    multi_reward = \"multiple\",\n",
    "    distance_threshold = None\n",
    ")\n",
    "print(rewards.compute(auvs, asvs))"
   ]
  },
  {
   "cell_type": "code",
   "execution_count": null,
   "metadata": {},
   "outputs": [],
   "source": []
  }
 ],
 "metadata": {
  "kernelspec": {
   "display_name": "basic",
   "language": "python",
   "name": "python3"
  },
  "language_info": {
   "codemirror_mode": {
    "name": "ipython",
    "version": 3
   },
   "file_extension": ".py",
   "mimetype": "text/x-python",
   "name": "python",
   "nbconvert_exporter": "python",
   "pygments_lexer": "ipython3",
   "version": "3.10.12"
  }
 },
 "nbformat": 4,
 "nbformat_minor": 2
}
