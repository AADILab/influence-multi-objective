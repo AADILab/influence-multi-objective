{
 "cells": [
  {
   "cell_type": "code",
   "execution_count": 6,
   "metadata": {},
   "outputs": [],
   "source": [
    "import numpy as np\n",
    "from influence_moo.env.env import POI, AUV, ASV, Rewards\n",
    "from influence_moo.plotting import *\n",
    "VISUALIZE = True"
   ]
  },
  {
   "cell_type": "code",
   "execution_count": 26,
   "metadata": {},
   "outputs": [
    {
     "data": {
      "image/png": "[encoded data removed]",
      "text/plain": [
       "<Figure size 640x480 with 1 Axes>"
      ]
     },
     "metadata": {},
     "output_type": "display_data"
    }
   ],
   "source": [
    "connectivity_grid = np.ones((20, 10))\n",
    "connectivity_grid[10,:] = 0.0\n",
    "connectivity_grid[5, 4:6] = 0.0\n",
    "\n",
    "pois = [\n",
    "    POI(position=np.array([1,5]), value=1.0, observation_radius=1.0)\n",
    "]\n",
    "poi_positions = np.array([poi.position for poi in pois])\n",
    "\n",
    "auvs = [\n",
    "    AUV(targets=[None], max_velocity=None)\n",
    "]\n",
    "\n",
    "# For tracking auvs during testing\n",
    "for id, auv in enumerate(auvs):\n",
    "    auv.id = id\n",
    "\n",
    "auv0_xs = np.linspace(1.,5.,100)\n",
    "auv0_ys = np.linspace(5.,5.,100)\n",
    "auvs[0].path = np.array([auv0_xs, auv0_ys]).T\n",
    "auvs[0].crashed = True\n",
    "\n",
    "asvs = [\n",
    "    ASV(position=None, auvs=auvs, connectivity_grid=None, policy_function=None)\n",
    "]\n",
    "\n",
    "# For tracking these asvs during testing\n",
    "for id, asv in enumerate(asvs):\n",
    "    asv.id = id\n",
    "\n",
    "asv0_xs = np.linspace(1.,1.,100)\n",
    "asv0_ys = np.linspace(6.,6.,100)\n",
    "asvs[0].path = np.array([asv0_xs, asv0_ys]).T\n",
    "asvs[0].crashed = True\n",
    "\n",
    "if VISUALIZE:\n",
    "    fig, ax = plt.subplots(1,1,dpi=100)\n",
    "    plot_grid(connectivity_grid, cmap='tab10_r')\n",
    "    plot_pts(poi_positions, ax, marker='o', fillstyle='none', linestyle='none',color='tab:green')\n",
    "    plot_pts(auvs[0].path, ax, ls=(0, (1,2)), color='pink', lw=1)\n",
    "    plot_pts(asvs[0].path, ax, marker='+', color='orange')\n",
    "    # plot_pts(np.array([auvs[0].path[87]]), ax, marker='x', color='pink')\n",
    "    plot_pts(np.array([[5,5]]), ax, marker='x', color='red')\n",
    "    ax.set_title(\"Rollout for Testing Rewards\")\n",
    "    plt.show()\n",
    "\n",
    "# spoof_0 = Spoof(pois, auvs, asvs, connectivity_grid, collision_step_size=0.1)"
   ]
  },
  {
   "cell_type": "code",
   "execution_count": null,
   "metadata": {},
   "outputs": [],
   "source": []
  },
  {
   "cell_type": "code",
   "execution_count": 27,
   "metadata": {},
   "outputs": [
    {
     "name": "stdout",
     "output_type": "stream",
     "text": [
      "([0], 0)\n"
     ]
    }
   ],
   "source": [
    "# Calculate rewards for that rollout\n",
    "\"\"\"What if no one crashed?\"\"\"\n",
    "config = {\n",
    "    \"rewards\":\n",
    "    {\n",
    "        \"influence_heuristic\": \"line_of_sight\",\n",
    "        \"influence_type\": \"granular\",\n",
    "        \"auv_reward\": \"difference\",\n",
    "        \"asv_reward\": \"indirect_difference_team\",\n",
    "        \"multi_reward\": \"single\",\n",
    "        \"distance_threshold\": 0.0\n",
    "    }\n",
    "}\n",
    "rewards = Rewards(\n",
    "    pois = pois,\n",
    "    connectivity_grid = connectivity_grid,\n",
    "    collision_step_size = 0.1,\n",
    "    config = config\n",
    ")\n",
    "print(\"No crashes: \", rewards.compute(auvs, asvs))\n",
    "\"\"\"What if the auv crashed?\"\"\"\n",
    "auvs[0].crashed = True\n",
    "print(\"AUV crashed: \", rewards.compute(auvs, asvs))\n",
    "\"\"\"What if both auv and asv crashed?\"\"\"\n",
    "asvs[0].crashed = True\n",
    "print(\"Both crashed: \", rewards.compute(auvs, asvs))\n",
    "\"\"\"What if only asv crashed?\"\"\"\n",
    "auvs[0].crashed = False\n",
    "print(\"ASV crashed: \", rewards.copmute())"
   ]
  },
  {
   "cell_type": "code",
   "execution_count": null,
   "metadata": {},
   "outputs": [],
   "source": []
  }
 ],
 "metadata": {
  "kernelspec": {
   "display_name": "basic",
   "language": "python",
   "name": "python3"
  },
  "language_info": {
   "codemirror_mode": {
    "name": "ipython",
    "version": 3
   },
   "file_extension": ".py",
   "mimetype": "text/x-python",
   "name": "python",
   "nbconvert_exporter": "python",
   "pygments_lexer": "ipython3",
   "version": "3.10.12"
  }
 },
 "nbformat": 4,
 "nbformat_minor": 2
}
